{
 "cells": [
  {
   "cell_type": "markdown",
   "metadata": {},
   "source": [
    "historical_buyouts.ipynb\n",
    "\n",
    "has to be listed somewhere with the SEC\n",
    "see pseudo code on cboard"
   ]
  },
  {
   "cell_type": "code",
   "execution_count": null,
   "metadata": {},
   "outputs": [],
   "source": []
  }
 ],
 "metadata": {
  "kernelspec": {
   "display_name": "sps_venv",
   "language": "python",
   "name": "python3"
  },
  "language_info": {
   "name": "python",
   "version": "3.11.1"
  }
 },
 "nbformat": 4,
 "nbformat_minor": 2
}
