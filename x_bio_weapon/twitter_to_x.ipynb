{
 "cells": [
  {
   "cell_type": "markdown",
   "metadata": {},
   "source": [
    "twitter, elon musk buyout, delist, name change to X.com"
   ]
  },
  {
   "cell_type": "markdown",
   "metadata": {},
   "source": []
  },
  {
   "cell_type": "code",
   "execution_count": 9,
   "metadata": {},
   "outputs": [],
   "source": [
    "import pandas as pd\n",
    "import numpy as np\n",
    "import yfinance as yf\n",
    "import pandas_datareader as pdr\n",
    "from datetime import datetime, timedelta\n",
    "import requests\n",
    "import warnings\n",
    "warnings.filterwarnings('ignore')"
   ]
  },
  {
   "cell_type": "code",
   "execution_count": 11,
   "metadata": {},
   "outputs": [
    {
     "name": "stderr",
     "output_type": "stream",
     "text": [
      "$TWTR: possibly delisted; no timezone found\n"
     ]
    },
    {
     "name": "stdout",
     "output_type": "stream",
     "text": [
      "No historical data found for TWTR\n",
      "No data available\n"
     ]
    }
   ],
   "source": [
    "def get_last_delisted_data(ticker, delisting_date):\n",
    "    \"\"\"\n",
    "    Fetch last available data for a delisted stock from Yahoo Finance.\n",
    "    \n",
    "    Parameters:\n",
    "    -----------\n",
    "    ticker : str\n",
    "        Stock ticker symbol\n",
    "    delisting_date : str\n",
    "        Date of delisting in 'YYYY-MM-DD' format\n",
    "    \n",
    "    Returns:\n",
    "    --------\n",
    "    dict\n",
    "        Contains last available price data and company information\n",
    "    \"\"\"\n",
    "    try:\n",
    "        # Initialize ticker object\n",
    "        stock = yf.Ticker(ticker)\n",
    "        \n",
    "        # Get end date and lookback period\n",
    "        end_date = pd.to_datetime(delisting_date)\n",
    "        start_date = end_date - pd.Timedelta(days=5)  # Look back 5 days to ensure we get last data\n",
    "        \n",
    "        # Get historical data\n",
    "        hist = stock.history(\n",
    "            start=start_date.strftime('%Y-%m-%d'),\n",
    "            end=end_date.strftime('%Y-%m-%d')\n",
    "        )\n",
    "        \n",
    "        # Get last available data point\n",
    "        if not hist.empty:\n",
    "            last_data = hist.iloc[-1]\n",
    "            \n",
    "            # Get company info\n",
    "            info = stock.info\n",
    "            \n",
    "            result = {\n",
    "                'ticker': ticker,\n",
    "                'delisting_date': delisting_date,\n",
    "                'last_trading_data': {\n",
    "                    'date': hist.index[-1].strftime('%Y-%m-%d'),\n",
    "                    'close': last_data['Close'],\n",
    "                    'volume': last_data['Volume'],\n",
    "                    'high': last_data['High'],\n",
    "                    'low': last_data['Low'],\n",
    "                    'open': last_data['Open']\n",
    "                },\n",
    "                'company_info': {\n",
    "                    'name': info.get('longName', 'N/A'),\n",
    "                    'industry': info.get('industry', 'N/A'),\n",
    "                    'sector': info.get('sector', 'N/A'),\n",
    "                    'employees': info.get('fullTimeEmployees', 'N/A'),\n",
    "                    'officers': info.get('companyOfficers', [])\n",
    "                }\n",
    "            }\n",
    "            \n",
    "            return result\n",
    "        else:\n",
    "            print(f\"No historical data found for {ticker}\")\n",
    "            return None\n",
    "            \n",
    "    except Exception as e:\n",
    "        print(f\"Error fetching data for {ticker}: {str(e)}\")\n",
    "        return None\n"
   ]
  },
  {
   "cell_type": "code",
   "execution_count": null,
   "metadata": {},
   "outputs": [],
   "source": [
    "# Example usage\n",
    "ticker = \"TWTR\"\n",
    "delisting_date = \"2022-10-27\"\n",
    "\n",
    "data = get_last_delisted_data(ticker, delisting_date)\n",
    "\n",
    "if data:\n",
    "    print(f\"\\n=== Last Available Data for {data['ticker']} ===\")\n",
    "    print(f\"Company: {data['company_info']['name']}\")\n",
    "    print(f\"Delisting Date: {data['delisting_date']}\")\n",
    "    \n",
    "    print(\"\\nLast Trading Data:\")\n",
    "    for key, value in data['last_trading_data'].items():\n",
    "        if isinstance(value, float):\n",
    "            print(f\"{key.title()}: ${value:,.2f}\" if key != 'volume' else f\"{key.title()}: {value:,.0f}\")\n",
    "        else:\n",
    "            print(f\"{key.title()}: {value}\")\n",
    "    \n",
    "    print(\"\\nCompany Officers:\")\n",
    "    for officer in data['company_info']['officers']:\n",
    "        print(f\"Name: {officer.get('name', 'N/A')}\")\n",
    "        print(f\"Title: {officer.get('title', 'N/A')}\")\n",
    "        if 'totalPay' in officer:\n",
    "            print(f\"Total Pay: ${officer['totalPay']:,.2f}\")\n",
    "        print(\"---\")\n",
    "else:\n",
    "    print(\"No data available\")"
   ]
  }
 ],
 "metadata": {
  "kernelspec": {
   "display_name": "sps_venv",
   "language": "python",
   "name": "python3"
  },
  "language_info": {
   "codemirror_mode": {
    "name": "ipython",
    "version": 3
   },
   "file_extension": ".py",
   "mimetype": "text/x-python",
   "name": "python",
   "nbconvert_exporter": "python",
   "pygments_lexer": "ipython3",
   "version": "3.11.1"
  }
 },
 "nbformat": 4,
 "nbformat_minor": 2
}
