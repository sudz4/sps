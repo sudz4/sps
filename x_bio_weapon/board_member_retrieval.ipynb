{
 "cells": [
  {
   "cell_type": "markdown",
   "metadata": {},
   "source": []
  },
  {
   "cell_type": "code",
   "execution_count": 1,
   "metadata": {},
   "outputs": [],
   "source": [
    "import os\n"
   ]
  },
  {
   "cell_type": "code",
   "execution_count": 8,
   "metadata": {},
   "outputs": [
    {
     "name": "stdout",
     "output_type": "stream",
     "text": [
      "47\n",
      "['AADI', 'ABOS', 'ACRS', 'ALGS', 'ALVR', 'ALXO', 'ANTX', 'ATNM', 'AVTE', 'BOLT', 'BRNS', 'CDTX', 'CMRX', 'CRBU', 'ELEV', 'EQ', 'HLVX', 'IKNA', 'IOBT', 'IPSC', 'ITOS', 'IVVD', 'KRON', 'KZR', 'LVTX', 'LYEL', 'MIST', 'NKTX', 'PASG', 'PMVP', 'PRE', 'PRLD', 'QURE', 'RAPT', 'RLYB', 'RPID', 'SCYX', 'SEER', 'STTK', 'TARA', 'VERV', 'VTGN', 'VTYX', 'VYNE', 'XFOR', 'XLO', 'ZNTL']\n"
     ]
    }
   ],
   "source": [
    "# specify the path\n",
    "base_path = '/Users/sudz4/Desktop/SPS_local/sps/x_bio_weapon/bio_targets'\n",
    "\n",
    "# get the list of folder names\n",
    "biotech_nev_ticker_list = [name for name in os.listdir(base_path) if os.path.isdir(os.path.join(base_path, name))]\n",
    "# sort the list\n",
    "biotech_nev_ticker_list.sort()\n",
    "\n",
    "\n",
    "print(len(biotech_nev_ticker_list))\n",
    "print(biotech_nev_ticker_list)"
   ]
  }
 ],
 "metadata": {
  "kernelspec": {
   "display_name": "sps_venv",
   "language": "python",
   "name": "python3"
  },
  "language_info": {
   "codemirror_mode": {
    "name": "ipython",
    "version": 3
   },
   "file_extension": ".py",
   "mimetype": "text/x-python",
   "name": "python",
   "nbconvert_exporter": "python",
   "pygments_lexer": "ipython3",
   "version": "3.11.1"
  }
 },
 "nbformat": 4,
 "nbformat_minor": 2
}
