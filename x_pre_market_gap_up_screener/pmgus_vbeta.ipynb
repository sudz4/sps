{
 "cells": [
  {
   "cell_type": "markdown",
   "metadata": {},
   "source": [
    "pmgus_vbeta.ipynb"
   ]
  },
  {
   "cell_type": "code",
   "execution_count": 1,
   "metadata": {},
   "outputs": [],
   "source": [
    "import pandas as pd\n",
    "import numpy as np\n",
    "pd.set_option('display.colheader_justify', 'left')  # Left-align column headers\n",
    "pd.set_option('display.max_columns', None)\n",
    "pd.set_option('display.max_rows', None)\n",
    "pd.set_option('display.max_colwidth', None)\n",
    "from datetime import datetime, timedelta\n",
    "#\n",
    "import matplotlib.pyplot as plt\n",
    "import matplotlib.dates as mdates\n",
    "import pytz\n",
    "from tqdm import tqdm  # Visualize loop progress\n",
    "from sklearn.linear_model import LinearRegression\n",
    "from tenacity import retry, stop_after_attempt, wait_fixed\n",
    "import openpyxl\n",
    "import os\n",
    "import requests\n",
    "import yfinance as yf\n",
    "\n",
    "#\n",
    "from dotenv import load_dotenv"
   ]
  },
  {
   "cell_type": "markdown",
   "metadata": {},
   "source": [
    "data import (manual) TradingView"
   ]
  },
  {
   "cell_type": "code",
   "execution_count": 2,
   "metadata": {},
   "outputs": [
    {
     "name": "stdout",
     "output_type": "stream",
     "text": [
      "/Users/sudz4/Desktop/SPS_local/sps/x_pre_market_gap_up_screener/tv_screen_gap-up_2024-12-18.csv\n",
      "1820\n",
      "0     NVDA\n",
      "1     AMZN\n",
      "2     META\n",
      "3    BRK.B\n",
      "4      TSM\n",
      "Name: Symbol, dtype: object\n"
     ]
    }
   ],
   "source": [
    "# base file path and file path setup\n",
    "base_dir_path = '/Users/sudz4/Desktop/SPS_local/sps/x_pre_market_gap_up_screener/' \n",
    "tv_prefix = 'tv_screen_gap-up_'\n",
    "file_type_csv = '.csv'\n",
    "#####---------------------#####\n",
    "# screen_date = '2024-12-17'\n",
    "screen_date = '2024-12-18'\n",
    "\n",
    "#####---------------------#####\n",
    "tv_filename = base_dir_path + tv_prefix + screen_date + file_type_csv\n",
    "\n",
    "# READ\n",
    "trading_view_df = pd.read_csv(tv_filename)\n",
    "\n",
    "# PRINT\n",
    "print(tv_filename)\n",
    "print(len(trading_view_df))\n",
    "# print first 5 ticker Symbols only\n",
    "print(trading_view_df['Symbol'].head(5))"
   ]
  },
  {
   "cell_type": "markdown",
   "metadata": {},
   "source": [
    "setup market cap category groups, criteria configurations, and conditional filtering."
   ]
  },
  {
   "cell_type": "code",
   "execution_count": null,
   "metadata": {},
   "outputs": [],
   "source": []
  },
  {
   "cell_type": "code",
   "execution_count": null,
   "metadata": {},
   "outputs": [],
   "source": []
  },
  {
   "cell_type": "code",
   "execution_count": null,
   "metadata": {},
   "outputs": [],
   "source": []
  }
 ],
 "metadata": {
  "kernelspec": {
   "display_name": "sps_venv",
   "language": "python",
   "name": "python3"
  },
  "language_info": {
   "codemirror_mode": {
    "name": "ipython",
    "version": 3
   },
   "file_extension": ".py",
   "mimetype": "text/x-python",
   "name": "python",
   "nbconvert_exporter": "python",
   "pygments_lexer": "ipython3",
   "version": "3.11.1"
  }
 },
 "nbformat": 4,
 "nbformat_minor": 2
}
