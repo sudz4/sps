{
 "cells": [
  {
   "cell_type": "markdown",
   "metadata": {},
   "source": [
    "profit_target.ipynb"
   ]
  },
  {
   "cell_type": "code",
   "execution_count": 1,
   "metadata": {},
   "outputs": [],
   "source": [
    "def target_price_for_profit(shares, buy_price, profit_target):\n",
    "    \"\"\"\n",
    "    Calculate the share price at which the unrealized gain equals the specified profit_target.\n",
    "\n",
    "    Parameters:\n",
    "    -----------\n",
    "    shares : int\n",
    "        Number of shares purchased.\n",
    "    buy_price : float\n",
    "        Average cost basis per share.\n",
    "    profit_target : float\n",
    "        Desired unrealized gain (in dollars).\n",
    "\n",
    "    Returns:\n",
    "    --------\n",
    "    float\n",
    "        The share price needed to achieve the specified unrealized gain.\n",
    "    \"\"\"\n",
    "    total_cost = shares * buy_price\n",
    "    # We want (shares * target_price) - total_cost = profit_target\n",
    "    needed_price = (total_cost + profit_target) / shares\n",
    "    return needed_price"
   ]
  },
  {
   "cell_type": "code",
   "execution_count": 3,
   "metadata": {},
   "outputs": [
    {
     "name": "stdout",
     "output_type": "stream",
     "text": [
      "You need the stock to reach ~$16.33 for a $10000 unrealized gain.\n"
     ]
    }
   ],
   "source": [
    "# USE IT\n",
    "shares = 17000\n",
    "avg_buy_price = 15.74\n",
    "desired_profit = 10000  # $10,000 profit target\n",
    "\n",
    "price_needed = target_price_for_profit(shares, avg_buy_price, desired_profit)\n",
    "print(f\"You need the stock to reach ~${price_needed:.2f} for a ${desired_profit} unrealized gain.\")\n"
   ]
  },
  {
   "cell_type": "code",
   "execution_count": null,
   "metadata": {},
   "outputs": [],
   "source": [
    "# use that library that prints the math"
   ]
  }
 ],
 "metadata": {
  "kernelspec": {
   "display_name": "sps_venv",
   "language": "python",
   "name": "python3"
  },
  "language_info": {
   "codemirror_mode": {
    "name": "ipython",
    "version": 3
   },
   "file_extension": ".py",
   "mimetype": "text/x-python",
   "name": "python",
   "nbconvert_exporter": "python",
   "pygments_lexer": "ipython3",
   "version": "3.11.1"
  }
 },
 "nbformat": 4,
 "nbformat_minor": 2
}
