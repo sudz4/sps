{
 "cells": [
  {
   "cell_type": "markdown",
   "metadata": {},
   "source": [
    "matthview.ipynb\n",
    "\n",
    "mv_data_df has all the data for plotting Matthew's data\n",
    "mv_company_data_df for the static information; re: board members etc."
   ]
  },
  {
   "cell_type": "code",
   "execution_count": 1,
   "metadata": {},
   "outputs": [],
   "source": [
    "import pandas as pd\n",
    "from dotenv import load_dotenv"
   ]
  },
  {
   "cell_type": "code",
   "execution_count": 2,
   "metadata": {},
   "outputs": [],
   "source": [
    "def fetch_stock_ohlcv(symbol: str, lookback_days: int = 100) -> pd.DataFrame:\n",
    "    load_dotenv() # loads password key\n",
    "    api_key = os.getenv('polygon_api_key')\n",
    "    \n",
    "    # Add buffer for weekends/holidays (multiply by 1.4 to account for non-trading days)\n",
    "    calendar_days = int(lookback_days * 1.4)\n",
    "    end_date = datetime.now()\n",
    "    start_date = end_date - timedelta(days=calendar_days)\n",
    "    \n",
    "    params = {\n",
    "        'apiKey': api_key,\n",
    "        'adjusted': 'true',  # Get adjusted prices\n",
    "        'sort': 'desc',      # Most recent first\n",
    "        'limit': 5000        # Maximum allowed\n",
    "    }\n",
    "    \n",
    "    url = (f'https://api.polygon.io/v2/aggs/ticker/{symbol}/range/1/day/'\n",
    "           f'{start_date.strftime(\"%Y-%m-%d\")}/{end_date.strftime(\"%Y-%m-%d\")}')\n",
    "    \n",
    "    try:\n",
    "        response = requests.get(url, params=params)\n",
    "        response.raise_for_status()\n",
    "        data = response.json()\n",
    "        \n",
    "        if data['status'] != 'OK':\n",
    "            raise ValueError(f\"API Error: {data.get('error', 'Unknown error')}\")\n",
    "            \n",
    "        # Create DataFrame\n",
    "        df = pd.DataFrame(data['results'])\n",
    "        \n",
    "        # Rename columns to be more descriptive\n",
    "        df = df.rename(columns={\n",
    "            't': 'date',\n",
    "            'o': 'open',\n",
    "            'h': 'high',\n",
    "            'l': 'low',\n",
    "            'c': 'close',\n",
    "            'v': 'volume',\n",
    "            'vw': 'vwap',     # Volume Weighted Average Price\n",
    "            'n': 'trades'     # Number of trades\n",
    "        })\n",
    "        \n",
    "        # Convert timestamp to datetime\n",
    "        df['date'] = pd.to_datetime(df['date'], unit='ms')\n",
    "        # convert to 2024-12-23\n",
    "        df['date'] = df['date'].dt.strftime('%Y-%m-%d')\n",
    "\n",
    "        # use date just not as index\n",
    "        df.set_index('date', inplace=True)\n",
    "        \n",
    "        # Get the most recent lookback_days\n",
    "        return df.head(lookback_days)\n",
    "        \n",
    "    except requests.exceptions.RequestException as e:\n",
    "        raise ConnectionError(f\"API request failed: {e}\")\n",
    "    except Exception as e:\n",
    "        raise Exception(f\"An error occurred: {e}\")"
   ]
  },
  {
   "cell_type": "code",
   "execution_count": 3,
   "metadata": {},
   "outputs": [
    {
     "ename": "NameError",
     "evalue": "name 'load_dotenv' is not defined",
     "output_type": "error",
     "traceback": [
      "\u001b[0;31m---------------------------------------------------------------------------\u001b[0m",
      "\u001b[0;31mNameError\u001b[0m                                 Traceback (most recent call last)",
      "Cell \u001b[0;32mIn[3], line 4\u001b[0m\n\u001b[1;32m      2\u001b[0m symbol \u001b[38;5;241m=\u001b[39m \u001b[38;5;124m'\u001b[39m\u001b[38;5;124mNVDA\u001b[39m\u001b[38;5;124m'\u001b[39m\n\u001b[1;32m      3\u001b[0m \u001b[38;5;66;03m# execute \u001b[39;00m\n\u001b[0;32m----> 4\u001b[0m pg_df \u001b[38;5;241m=\u001b[39m \u001b[43mfetch_stock_ohlcv\u001b[49m\u001b[43m(\u001b[49m\u001b[43msymbol\u001b[49m\u001b[43m,\u001b[49m\u001b[43m \u001b[49m\u001b[43mlookback_days\u001b[49m\u001b[38;5;241;43m=\u001b[39;49m\u001b[38;5;241;43m100\u001b[39;49m\u001b[43m)\u001b[49m\n\u001b[1;32m      5\u001b[0m \u001b[38;5;66;03m# new pg_ohlcv_df with only necessary columns\u001b[39;00m\n\u001b[1;32m      6\u001b[0m pg_ohlcv_df \u001b[38;5;241m=\u001b[39m pg_df[[\u001b[38;5;124m'\u001b[39m\u001b[38;5;124mopen\u001b[39m\u001b[38;5;124m'\u001b[39m, \u001b[38;5;124m'\u001b[39m\u001b[38;5;124mhigh\u001b[39m\u001b[38;5;124m'\u001b[39m, \u001b[38;5;124m'\u001b[39m\u001b[38;5;124mlow\u001b[39m\u001b[38;5;124m'\u001b[39m, \u001b[38;5;124m'\u001b[39m\u001b[38;5;124mclose\u001b[39m\u001b[38;5;124m'\u001b[39m, \u001b[38;5;124m'\u001b[39m\u001b[38;5;124mvolume\u001b[39m\u001b[38;5;124m'\u001b[39m,\u001b[38;5;124m'\u001b[39m\u001b[38;5;124mvwap\u001b[39m\u001b[38;5;124m'\u001b[39m]]\u001b[38;5;241m.\u001b[39mcopy()\n",
      "Cell \u001b[0;32mIn[2], line 2\u001b[0m, in \u001b[0;36mfetch_stock_ohlcv\u001b[0;34m(symbol, lookback_days)\u001b[0m\n\u001b[1;32m      1\u001b[0m \u001b[38;5;28;01mdef\u001b[39;00m \u001b[38;5;21mfetch_stock_ohlcv\u001b[39m(symbol: \u001b[38;5;28mstr\u001b[39m, lookback_days: \u001b[38;5;28mint\u001b[39m \u001b[38;5;241m=\u001b[39m \u001b[38;5;241m100\u001b[39m) \u001b[38;5;241m-\u001b[39m\u001b[38;5;241m>\u001b[39m pd\u001b[38;5;241m.\u001b[39mDataFrame:\n\u001b[0;32m----> 2\u001b[0m     \u001b[43mload_dotenv\u001b[49m()\n\u001b[1;32m      3\u001b[0m     api_key \u001b[38;5;241m=\u001b[39m os\u001b[38;5;241m.\u001b[39mgetenv(\u001b[38;5;124m'\u001b[39m\u001b[38;5;124mpolygon_api_key\u001b[39m\u001b[38;5;124m'\u001b[39m)\n\u001b[1;32m      5\u001b[0m     \u001b[38;5;66;03m# Add buffer for weekends/holidays (multiply by 1.4 to account for non-trading days)\u001b[39;00m\n",
      "\u001b[0;31mNameError\u001b[0m: name 'load_dotenv' is not defined"
     ]
    }
   ],
   "source": [
    "# GET data\n",
    "symbol = 'NVDA'\n",
    "# execute \n",
    "pg_df = fetch_stock_ohlcv(symbol, lookback_days=100)\n",
    "# new pg_ohlcv_df with only necessary columns\n",
    "pg_ohlcv_df = pg_df[['open', 'high', 'low', 'close', 'volume','vwap']].copy()\n",
    "# no date index\n",
    "pg_ohlcv_df.reset_index(inplace=True)\n",
    "\n",
    "print(f\"\\nLast {len(pg_ohlcv_df)} trading days for {symbol}:\")\n",
    "display(pg_ohlcv_df.head())  "
   ]
  },
  {
   "cell_type": "code",
   "execution_count": null,
   "metadata": {},
   "outputs": [],
   "source": []
  },
  {
   "cell_type": "code",
   "execution_count": null,
   "metadata": {},
   "outputs": [],
   "source": []
  }
 ],
 "metadata": {
  "kernelspec": {
   "display_name": "sps_venv",
   "language": "python",
   "name": "python3"
  },
  "language_info": {
   "codemirror_mode": {
    "name": "ipython",
    "version": 3
   },
   "file_extension": ".py",
   "mimetype": "text/x-python",
   "name": "python",
   "nbconvert_exporter": "python",
   "pygments_lexer": "ipython3",
   "version": "3.11.1"
  }
 },
 "nbformat": 4,
 "nbformat_minor": 2
}
