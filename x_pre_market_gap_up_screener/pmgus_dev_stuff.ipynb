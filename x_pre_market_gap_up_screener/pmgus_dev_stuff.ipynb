{
 "cells": [
  {
   "cell_type": "markdown",
   "metadata": {},
   "source": [
    "pmgus_dev_stuff.ipynb"
   ]
  },
  {
   "cell_type": "code",
   "execution_count": 18,
   "metadata": {},
   "outputs": [],
   "source": [
    "import pandas as pd\n",
    "import numpy as np\n",
    "import requests\n",
    "import os\n",
    "import json\n",
    "import yfinance as yf\n",
    "import datetime\n",
    "from datetime import datetime, timedelta"
   ]
  },
  {
   "cell_type": "code",
   "execution_count": 19,
   "metadata": {},
   "outputs": [
    {
     "data": {
      "text/plain": [
       "True"
      ]
     },
     "execution_count": 19,
     "metadata": {},
     "output_type": "execute_result"
    }
   ],
   "source": [
    "import dotenv\n",
    "from dotenv import load_dotenv\n",
    "load_dotenv()"
   ]
  },
  {
   "cell_type": "code",
   "execution_count": 3,
   "metadata": {},
   "outputs": [],
   "source": [
    "# TradingView custom columns setup\n",
    "cols_list = [\n",
    "    'Symbol', # Symbol\n",
    "    'Description', \n",
    "    'marketCapType', \n",
    "    'Pre-market Change %', # Pre-market Change %\n",
    "    'Pre-market Gap %', \n",
    "    'marketCapType',\n",
    "    'Market capitalization',\n",
    "    'Price', \n",
    "    'Pre-market Open', \n",
    "    'Industry', \n",
    "    'Index', \n",
    "    'Sector', \n",
    "    'Exchange',\n",
    "    'Recent earnings date', \n",
    "    'Upcoming earnings date', \n",
    "    'Float shares outstanding', \n",
    "    'Average Volume 10 days',\n",
    "    'Average Volume 30 days', \n",
    "    'Average Volume 90 days',\n",
    "    'Relative Volume 1 day', \n",
    "    'Relative Volume 5 minutes', \n",
    "    'Relative Volume 30 minutes', \n",
    "    'Relative Volume at Time', \n",
    "    'Analyst Rating',\n",
    "    'Technical Rating 5 minutes'\n",
    "]"
   ]
  },
  {
   "cell_type": "markdown",
   "metadata": {},
   "source": [
    "get pre-market price data for SOFI\n",
    "-> do i need a websocket for pre-market data? after hours, post market ours data?\n",
    "get pre-market clone data of TradingView\n",
    "add features new and other ideas that we find"
   ]
  },
  {
   "cell_type": "code",
   "execution_count": 20,
   "metadata": {},
   "outputs": [],
   "source": [
    "def get_snapshot(ticker, api_key):\n",
    "    \"\"\"\n",
    "    Retrieves the snapshot data for the specified ticker from Polygon.io.\n",
    "    \"\"\"\n",
    "    url = f\"https://api.polygon.io/v2/snapshot/locale/us/markets/stocks/tickers/{ticker}?apiKey={api_key}\"\n",
    "    response = requests.get(url)\n",
    "    \n",
    "    if response.status_code == 200:\n",
    "        # Parse the JSON response\n",
    "        data = response.json()\n",
    "        return data\n",
    "    else:\n",
    "        # Handle any errors\n",
    "        print(f\"Error: {response.status_code} - {response.text}\")\n",
    "        return None"
   ]
  },
  {
   "cell_type": "code",
   "execution_count": 21,
   "metadata": {},
   "outputs": [
    {
     "name": "stdout",
     "output_type": "stream",
     "text": [
      "{\n",
      "  \"ticker\": {\n",
      "    \"ticker\": \"SOFI\",\n",
      "    \"todaysChangePerc\": 3.807740324594254,\n",
      "    \"todaysChange\": 0.6099999999999994,\n",
      "    \"updated\": 1735261200000000000,\n",
      "    \"day\": {\n",
      "      \"o\": 15.98,\n",
      "      \"h\": 16.68,\n",
      "      \"l\": 15.88,\n",
      "      \"c\": 16.6,\n",
      "      \"v\": 36892700.0,\n",
      "      \"vw\": 16.4665\n",
      "    },\n",
      "    \"lastQuote\": {\n",
      "      \"P\": 16.63,\n",
      "      \"S\": 49,\n",
      "      \"p\": 16.61,\n",
      "      \"s\": 1,\n",
      "      \"t\": 1735261199752001700\n",
      "    },\n",
      "    \"lastTrade\": {\n",
      "      \"c\": [\n",
      "        12\n",
      "      ],\n",
      "      \"i\": \"8163\",\n",
      "      \"p\": 16.63,\n",
      "      \"s\": 308,\n",
      "      \"t\": 1735261194971047072,\n",
      "      \"x\": 11\n",
      "    },\n",
      "    \"min\": {\n",
      "      \"av\": 36892700.0,\n",
      "      \"t\": 1735261140000,\n",
      "      \"n\": 16,\n",
      "      \"o\": 16.63,\n",
      "      \"h\": 16.63,\n",
      "      \"l\": 16.59,\n",
      "      \"c\": 16.63,\n",
      "      \"v\": 1188,\n",
      "      \"vw\": 16.6162\n",
      "    },\n",
      "    \"prevDay\": {\n",
      "      \"o\": 15.73,\n",
      "      \"h\": 16.03,\n",
      "      \"l\": 15.57,\n",
      "      \"c\": 16.02,\n",
      "      \"v\": 15729659.0,\n",
      "      \"vw\": 15.8539\n",
      "    }\n",
      "  },\n",
      "  \"status\": \"OK\",\n",
      "  \"request_id\": \"5e5e2ad4533f32f3b87aef95b9a68f5e\"\n",
      "}\n",
      "\n",
      "The most recent trade price for SOFI is: 16.63\n"
     ]
    }
   ],
   "source": [
    "ticker = \"SOFI\"\n",
    "api_key = os.getenv(\"polygon_api_key\")  \n",
    "snapshot_data = get_snapshot(ticker, api_key)\n",
    "\n",
    "# Print the raw JSON response in a nice format\n",
    "if snapshot_data:\n",
    "    print(json.dumps(snapshot_data, indent=2))\n",
    "    \n",
    "    # If you want to extract specific fields, for example the last trade price:\n",
    "    if 'ticker' in snapshot_data and 'lastTrade' in snapshot_data['ticker']:\n",
    "        last_trade_price = snapshot_data['ticker']['lastTrade'].get('p')\n",
    "        print(f\"\\nThe most recent trade price for {ticker} is: {last_trade_price}\")\n",
    "    else:\n",
    "        print(\"\\nNo 'lastTrade' data found in the snapshot response.\")"
   ]
  },
  {
   "cell_type": "markdown",
   "metadata": {},
   "source": [
    "DEV 2"
   ]
  },
  {
   "cell_type": "code",
   "execution_count": 6,
   "metadata": {},
   "outputs": [],
   "source": [
    "def get_enhanced_snapshot(ticker, api_key):\n",
    "    \"\"\"\n",
    "    Enhanced snapshot function that includes pre-market data and error handling\n",
    "    \"\"\"\n",
    "    base_url = \"https://api.polygon.io/v2\"\n",
    "    \n",
    "    # Get snapshot data\n",
    "    snapshot_url = f\"{base_url}/snapshot/locale/us/markets/stocks/tickers/{ticker}\"\n",
    "    \n",
    "    # Get previous day's close and pre-market data\n",
    "    aggs_url = f\"{base_url}/aggs/ticker/{ticker}/range/1/minute/previous\"\n",
    "    \n",
    "    headers = {\n",
    "        \"Authorization\": f\"Bearer {api_key}\",\n",
    "        \"Content-Type\": \"application/json\"\n",
    "    }\n",
    "    \n",
    "    try:\n",
    "        snapshot_response = requests.get(snapshot_url, headers=headers)\n",
    "        snapshot_response.raise_for_status()\n",
    "        snapshot_data = snapshot_response.json()\n",
    "        \n",
    "        # Calculate pre-market metrics\n",
    "        current_price = snapshot_data['ticker']['lastTrade']['p']\n",
    "        prev_close = snapshot_data['ticker']['prevDay']['c']\n",
    "        \n",
    "        # Calculate pre-market changes\n",
    "        pm_change = current_price - prev_close\n",
    "        pm_change_percent = (pm_change / prev_close) * 100\n",
    "        \n",
    "        # Enhance the snapshot data with pre-market metrics\n",
    "        enhanced_data = {\n",
    "            'Symbol': ticker,\n",
    "            'Price': current_price,\n",
    "            'prev_close': prev_close,\n",
    "            'pm_change': pm_change,\n",
    "            'Pre-market Change %': pm_change_percent,\n",
    "            'volume': snapshot_data['ticker']['day']['v'],\n",
    "            'vwap': snapshot_data['ticker']['day']['vw'],\n",
    "            'timestamp': snapshot_data['ticker']['updated']\n",
    "        }\n",
    "        \n",
    "        return enhanced_data\n",
    "        \n",
    "    except requests.exceptions.RequestException as e:\n",
    "        print(f\"Error fetching data for {ticker}: {str(e)}\")\n",
    "        return None"
   ]
  },
  {
   "cell_type": "code",
   "execution_count": 7,
   "metadata": {},
   "outputs": [],
   "source": [
    "def build_screening_df(tickers, api_key):\n",
    "    \"\"\"\n",
    "    Build a DataFrame with screening data for multiple tickers\n",
    "    \"\"\"\n",
    "    results = []\n",
    "    \n",
    "    for ticker in tickers:\n",
    "        data = get_enhanced_snapshot(ticker, api_key)\n",
    "        if data:\n",
    "            results.append(data)\n",
    "    \n",
    "    df = pd.DataFrame(results)\n",
    "    \n",
    "    # Add additional calculated columns\n",
    "    if not df.empty:\n",
    "        df['rel_volume'] = df['volume'] / df['volume'].mean()\n",
    "        # YOU CAN ADD STUFF HERE LATER        \n",
    "    return df\n",
    "\n",
    "# Usage example:\n",
    "tickers = ['SOFI', 'AAPL', 'MSFT']  # Add more tickers as needed\n",
    "polygon_df = build_screening_df(tickers, api_key)"
   ]
  },
  {
   "cell_type": "code",
   "execution_count": 8,
   "metadata": {},
   "outputs": [
    {
     "data": {
      "text/html": [
       "<div>\n",
       "<style scoped>\n",
       "    .dataframe tbody tr th:only-of-type {\n",
       "        vertical-align: middle;\n",
       "    }\n",
       "\n",
       "    .dataframe tbody tr th {\n",
       "        vertical-align: top;\n",
       "    }\n",
       "\n",
       "    .dataframe thead th {\n",
       "        text-align: right;\n",
       "    }\n",
       "</style>\n",
       "<table border=\"1\" class=\"dataframe\">\n",
       "  <thead>\n",
       "    <tr style=\"text-align: right;\">\n",
       "      <th></th>\n",
       "      <th>Symbol</th>\n",
       "      <th>Price</th>\n",
       "      <th>prev_close</th>\n",
       "      <th>pm_change</th>\n",
       "      <th>Pre-market Change %</th>\n",
       "      <th>volume</th>\n",
       "      <th>vwap</th>\n",
       "      <th>timestamp</th>\n",
       "      <th>rel_volume</th>\n",
       "    </tr>\n",
       "  </thead>\n",
       "  <tbody>\n",
       "    <tr>\n",
       "      <th>0</th>\n",
       "      <td>SOFI</td>\n",
       "      <td>16.6300</td>\n",
       "      <td>16.02</td>\n",
       "      <td>0.6100</td>\n",
       "      <td>3.807740</td>\n",
       "      <td>36892700.0</td>\n",
       "      <td>16.4665</td>\n",
       "      <td>1735261200000000000</td>\n",
       "      <td>1.556929</td>\n",
       "    </tr>\n",
       "    <tr>\n",
       "      <th>1</th>\n",
       "      <td>AAPL</td>\n",
       "      <td>259.0600</td>\n",
       "      <td>258.20</td>\n",
       "      <td>0.8600</td>\n",
       "      <td>0.333075</td>\n",
       "      <td>26225997.0</td>\n",
       "      <td>258.9280</td>\n",
       "      <td>1735261140000000000</td>\n",
       "      <td>1.106777</td>\n",
       "    </tr>\n",
       "    <tr>\n",
       "      <th>2</th>\n",
       "      <td>MSFT</td>\n",
       "      <td>437.4596</td>\n",
       "      <td>439.33</td>\n",
       "      <td>-1.8704</td>\n",
       "      <td>-0.425739</td>\n",
       "      <td>7968758.0</td>\n",
       "      <td>438.6447</td>\n",
       "      <td>1735261200000000000</td>\n",
       "      <td>0.336294</td>\n",
       "    </tr>\n",
       "  </tbody>\n",
       "</table>\n",
       "</div>"
      ],
      "text/plain": [
       "  Symbol     Price  prev_close  pm_change  Pre-market Change %      volume  \\\n",
       "0   SOFI   16.6300       16.02     0.6100             3.807740  36892700.0   \n",
       "1   AAPL  259.0600      258.20     0.8600             0.333075  26225997.0   \n",
       "2   MSFT  437.4596      439.33    -1.8704            -0.425739   7968758.0   \n",
       "\n",
       "       vwap            timestamp  rel_volume  \n",
       "0   16.4665  1735261200000000000    1.556929  \n",
       "1  258.9280  1735261140000000000    1.106777  \n",
       "2  438.6447  1735261200000000000    0.336294  "
      ]
     },
     "metadata": {},
     "output_type": "display_data"
    }
   ],
   "source": [
    "display(polygon_df)"
   ]
  },
  {
   "cell_type": "code",
   "execution_count": null,
   "metadata": {},
   "outputs": [],
   "source": []
  },
  {
   "cell_type": "code",
   "execution_count": null,
   "metadata": {},
   "outputs": [],
   "source": []
  },
  {
   "cell_type": "code",
   "execution_count": 17,
   "metadata": {},
   "outputs": [
    {
     "name": "stdout",
     "output_type": "stream",
     "text": [
      "  Symbol  FloatShares  SharesOutstanding\n",
      "0   SOFI   1065212727         1085149952\n",
      "1   AAPL  15091184209        15115799552\n",
      "2   TSLA   2793105010         3210060032\n",
      "3   AMZN   9386750327        10515000320\n"
     ]
    }
   ],
   "source": [
    "# List of tickers to fetch data for\n",
    "ticker_list = [\"SOFI\", \"PLTR\"]\n",
    "# This list will hold dictionaries of our extracted data\n",
    "data_rows = []\n",
    "# loop through each ticker\n",
    "for symbol in ticker_list:\n",
    "    ticker_obj = yf.Ticker(symbol)\n",
    "    info = ticker_obj.info\n",
    "    \n",
    "    # build a row of data\n",
    "    row = {\n",
    "        \"Symbol\": symbol,  # Or you could use info.get(\"symbol\") if you trust Yahoo's symbol field\n",
    "        \"Float shares outstanding\": info.get('floatShares'),\n",
    "        \"SharesOutstanding\": info.get('sharesOutstanding')\n",
    "        # Add other fields here if needed\n",
    "    }\n",
    "    data_rows.append(row)\n"
   ]
  },
  {
   "cell_type": "code",
   "execution_count": null,
   "metadata": {},
   "outputs": [],
   "source": [
    "# convert the list of dictionaries into a pandas DataFrame\n",
    "yahoo_df = pd.DataFrame(data_rows)\n",
    "print(yahoo_df)"
   ]
  },
  {
   "cell_type": "code",
   "execution_count": null,
   "metadata": {},
   "outputs": [],
   "source": []
  },
  {
   "cell_type": "code",
   "execution_count": 16,
   "metadata": {},
   "outputs": [
    {
     "name": "stdout",
     "output_type": "stream",
     "text": [
      "Ticker: SOFI\n",
      "\n",
      "Ticker Info Keys: dict_keys(['address1', 'city', 'state', 'zip', 'country', 'phone', 'website', 'industry', 'industryKey', 'industryDisp', 'sector', 'sectorKey', 'sectorDisp', 'longBusinessSummary', 'fullTimeEmployees', 'companyOfficers', 'auditRisk', 'boardRisk', 'compensationRisk', 'shareHolderRightsRisk', 'overallRisk', 'governanceEpochDate', 'compensationAsOfEpochDate', 'maxAge', 'priceHint', 'previousClose', 'open', 'dayLow', 'dayHigh', 'regularMarketPreviousClose', 'regularMarketOpen', 'regularMarketDayLow', 'regularMarketDayHigh', 'beta', 'trailingPE', 'forwardPE', 'volume', 'regularMarketVolume', 'averageVolume', 'averageVolume10days', 'averageDailyVolume10Day', 'bid', 'ask', 'bidSize', 'askSize', 'marketCap', 'fiftyTwoWeekLow', 'fiftyTwoWeekHigh', 'priceToSalesTrailing12Months', 'fiftyDayAverage', 'twoHundredDayAverage', 'currency', 'enterpriseValue', 'profitMargins', 'floatShares', 'sharesOutstanding', 'sharesShort', 'sharesShortPriorMonth', 'sharesShortPreviousMonthDate', 'dateShortInterest', 'sharesPercentSharesOut', 'heldPercentInsiders', 'heldPercentInstitutions', 'shortRatio', 'shortPercentOfFloat', 'impliedSharesOutstanding', 'bookValue', 'priceToBook', 'lastFiscalYearEnd', 'nextFiscalYearEnd', 'mostRecentQuarter', 'netIncomeToCommon', 'trailingEps', 'forwardEps', 'enterpriseToRevenue', '52WeekChange', 'SandP52WeekChange', 'exchange', 'quoteType', 'symbol', 'underlyingSymbol', 'shortName', 'longName', 'firstTradeDateEpochUtc', 'timeZoneFullName', 'timeZoneShortName', 'uuid', 'messageBoardId', 'gmtOffSetMilliseconds', 'currentPrice', 'targetHighPrice', 'targetLowPrice', 'targetMeanPrice', 'targetMedianPrice', 'recommendationMean', 'recommendationKey', 'numberOfAnalystOpinions', 'totalCash', 'totalCashPerShare', 'totalDebt', 'quickRatio', 'currentRatio', 'totalRevenue', 'debtToEquity', 'revenuePerShare', 'returnOnAssets', 'returnOnEquity', 'operatingCashflow', 'revenueGrowth', 'grossMargins', 'operatingMargins', 'financialCurrency', 'trailingPegRatio'])\n",
      "\n",
      "Float Shares: 1065212727\n",
      "Shares Outstanding: 1085149952\n"
     ]
    }
   ],
   "source": [
    "import yfinance as yf\n",
    "\n",
    "# Specify the ticker symbol\n",
    "ticker_symbol = \"SOFI\"\n",
    "\n",
    "# Create a Ticker object\n",
    "ticker = yf.Ticker(ticker_symbol)\n",
    "\n",
    "# Retrieve the info dictionary, which often includes floatShares, sharesOutstanding, etc.\n",
    "info = ticker.info\n",
    "\n",
    "# Print the ticker symbol\n",
    "print(f\"Ticker: {ticker_symbol}\")\n",
    "\n",
    "# Print all the keys in the info dictionary (useful for discovering other available data)\n",
    "print(\"\\nTicker Info Keys:\", info.keys())\n",
    "\n",
    "# Print float shares and shares outstanding if they exist in the info dict\n",
    "print(\"\\nFloat Shares:\", info.get('floatShares'))\n",
    "print(\"Shares Outstanding:\", info.get('sharesOutstanding'))\n"
   ]
  },
  {
   "cell_type": "code",
   "execution_count": 10,
   "metadata": {},
   "outputs": [
    {
     "data": {
      "text/html": [
       "<div>\n",
       "<style scoped>\n",
       "    .dataframe tbody tr th:only-of-type {\n",
       "        vertical-align: middle;\n",
       "    }\n",
       "\n",
       "    .dataframe tbody tr th {\n",
       "        vertical-align: top;\n",
       "    }\n",
       "\n",
       "    .dataframe thead th {\n",
       "        text-align: right;\n",
       "    }\n",
       "</style>\n",
       "<table border=\"1\" class=\"dataframe\">\n",
       "  <thead>\n",
       "    <tr style=\"text-align: right;\">\n",
       "      <th></th>\n",
       "      <th>address1</th>\n",
       "      <th>city</th>\n",
       "      <th>state</th>\n",
       "      <th>zip</th>\n",
       "      <th>country</th>\n",
       "      <th>phone</th>\n",
       "      <th>website</th>\n",
       "      <th>industry</th>\n",
       "      <th>industryKey</th>\n",
       "      <th>industryDisp</th>\n",
       "      <th>...</th>\n",
       "      <th>debtToEquity</th>\n",
       "      <th>revenuePerShare</th>\n",
       "      <th>returnOnAssets</th>\n",
       "      <th>returnOnEquity</th>\n",
       "      <th>operatingCashflow</th>\n",
       "      <th>revenueGrowth</th>\n",
       "      <th>grossMargins</th>\n",
       "      <th>operatingMargins</th>\n",
       "      <th>financialCurrency</th>\n",
       "      <th>trailingPegRatio</th>\n",
       "    </tr>\n",
       "  </thead>\n",
       "  <tbody>\n",
       "    <tr>\n",
       "      <th>0</th>\n",
       "      <td>234 1st Street</td>\n",
       "      <td>San Francisco</td>\n",
       "      <td>CA</td>\n",
       "      <td>94105</td>\n",
       "      <td>United States</td>\n",
       "      <td>855 456 7634</td>\n",
       "      <td>https://www.sofi.com</td>\n",
       "      <td>Credit Services</td>\n",
       "      <td>credit-services</td>\n",
       "      <td>Credit Services</td>\n",
       "      <td>...</td>\n",
       "      <td>54.394</td>\n",
       "      <td>2.472</td>\n",
       "      <td>0.00687</td>\n",
       "      <td>0.03725</td>\n",
       "      <td>-1167645056</td>\n",
       "      <td>0.341</td>\n",
       "      <td>0.82636</td>\n",
       "      <td>0.0924</td>\n",
       "      <td>USD</td>\n",
       "      <td>None</td>\n",
       "    </tr>\n",
       "  </tbody>\n",
       "</table>\n",
       "<p>1 rows × 113 columns</p>\n",
       "</div>"
      ],
      "text/plain": [
       "         address1           city state    zip        country         phone  \\\n",
       "0  234 1st Street  San Francisco    CA  94105  United States  855 456 7634   \n",
       "\n",
       "                website         industry      industryKey     industryDisp  \\\n",
       "0  https://www.sofi.com  Credit Services  credit-services  Credit Services   \n",
       "\n",
       "   ... debtToEquity revenuePerShare returnOnAssets returnOnEquity  \\\n",
       "0  ...       54.394           2.472        0.00687        0.03725   \n",
       "\n",
       "   operatingCashflow revenueGrowth  grossMargins  operatingMargins  \\\n",
       "0        -1167645056         0.341       0.82636            0.0924   \n",
       "\n",
       "   financialCurrency  trailingPegRatio  \n",
       "0                USD              None  \n",
       "\n",
       "[1 rows x 113 columns]"
      ]
     },
     "metadata": {},
     "output_type": "display_data"
    }
   ],
   "source": [
    "# Convert the info dictionary to a DataFrame\n",
    "stock_ticker_info_df = pd.DataFrame([info])\n",
    "\n",
    "# Display the DataFrame\n",
    "display(stock_ticker_info_df)"
   ]
  },
  {
   "cell_type": "code",
   "execution_count": 15,
   "metadata": {},
   "outputs": [
    {
     "name": "stderr",
     "output_type": "stream",
     "text": [
      "/var/folders/8w/4mj_4m4d0rs1q22bl9g77hhw0000gn/T/ipykernel_21684/4184329236.py:2: SettingWithCopyWarning: \n",
      "A value is trying to be set on a copy of a slice from a DataFrame.\n",
      "Try using .loc[row_indexer,col_indexer] = value instead\n",
      "\n",
      "See the caveats in the documentation: https://pandas.pydata.org/pandas-docs/stable/user_guide/indexing.html#returning-a-view-versus-a-copy\n",
      "  company_info_df['ticker'] = ticker_symbol\n"
     ]
    },
    {
     "data": {
      "text/html": [
       "<div>\n",
       "<style scoped>\n",
       "    .dataframe tbody tr th:only-of-type {\n",
       "        vertical-align: middle;\n",
       "    }\n",
       "\n",
       "    .dataframe tbody tr th {\n",
       "        vertical-align: top;\n",
       "    }\n",
       "\n",
       "    .dataframe thead th {\n",
       "        text-align: right;\n",
       "    }\n",
       "</style>\n",
       "<table border=\"1\" class=\"dataframe\">\n",
       "  <thead>\n",
       "    <tr style=\"text-align: right;\">\n",
       "      <th></th>\n",
       "      <th>industry</th>\n",
       "      <th>floatShares</th>\n",
       "      <th>sharesOutstanding</th>\n",
       "      <th>sector</th>\n",
       "      <th>ticker</th>\n",
       "    </tr>\n",
       "  </thead>\n",
       "  <tbody>\n",
       "    <tr>\n",
       "      <th>0</th>\n",
       "      <td>Credit Services</td>\n",
       "      <td>1065212727</td>\n",
       "      <td>1085149952</td>\n",
       "      <td>Financial Services</td>\n",
       "      <td>SOFI</td>\n",
       "    </tr>\n",
       "  </tbody>\n",
       "</table>\n",
       "</div>"
      ],
      "text/plain": [
       "          industry  floatShares  sharesOutstanding              sector ticker\n",
       "0  Credit Services   1065212727         1085149952  Financial Services   SOFI"
      ]
     },
     "metadata": {},
     "output_type": "display_data"
    }
   ],
   "source": [
    "# Extract specific columns from the stock_ticker_info_df\n",
    "company_info_df = stock_ticker_info_df[['industry', 'floatShares', 'sharesOutstanding', 'sector']]\n",
    "\n",
    "# Display the DataFrame\n",
    "display(company_info_df)"
   ]
  },
  {
   "cell_type": "code",
   "execution_count": 13,
   "metadata": {},
   "outputs": [
    {
     "name": "stdout",
     "output_type": "stream",
     "text": [
      "113\n"
     ]
    }
   ],
   "source": [
    "print(len(stock_ticker_info_df.columns))    "
   ]
  }
 ],
 "metadata": {
  "kernelspec": {
   "display_name": "sps_venv",
   "language": "python",
   "name": "python3"
  },
  "language_info": {
   "codemirror_mode": {
    "name": "ipython",
    "version": 3
   },
   "file_extension": ".py",
   "mimetype": "text/x-python",
   "name": "python",
   "nbconvert_exporter": "python",
   "pygments_lexer": "ipython3",
   "version": "3.11.1"
  }
 },
 "nbformat": 4,
 "nbformat_minor": 2
}
