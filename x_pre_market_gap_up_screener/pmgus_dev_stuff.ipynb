{
 "cells": [
  {
   "cell_type": "markdown",
   "metadata": {},
   "source": [
    "pmgus_dev_stuff.ipynb"
   ]
  },
  {
   "cell_type": "code",
   "execution_count": 1,
   "metadata": {},
   "outputs": [],
   "source": [
    "import pandas as pd\n",
    "import numpy as np\n",
    "import requests\n",
    "import os"
   ]
  },
  {
   "cell_type": "code",
   "execution_count": 2,
   "metadata": {},
   "outputs": [
    {
     "data": {
      "text/plain": [
       "True"
      ]
     },
     "execution_count": 2,
     "metadata": {},
     "output_type": "execute_result"
    }
   ],
   "source": [
    "import dotenv\n",
    "from dotenv import load_dotenv\n",
    "load_dotenv()"
   ]
  },
  {
   "cell_type": "code",
   "execution_count": null,
   "metadata": {},
   "outputs": [],
   "source": [
    "# TradingView custom columns setup\n",
    "cols_list = [\n",
    "    'Symbol', # ticker\n",
    "    'Description', # something\n",
    "    'marketCapType', \n",
    "    'Pre-market Change %', \n",
    "    'Pre-market Gap %', \n",
    "    'marketCapType',\n",
    "    'Market capitalization',\n",
    "    'Price', \n",
    "    'Pre-market Open', \n",
    "    'Industry', \n",
    "    'Index', \n",
    "    'Sector', \n",
    "    'Exchange',\n",
    "    'Recent earnings date', \n",
    "    'Upcoming earnings date', \n",
    "    'Float shares outstanding', \n",
    "    'Average Volume 10 days',\n",
    "    'Average Volume 30 days', \n",
    "    'Average Volume 90 days',\n",
    "    'Relative Volume 1 day', \n",
    "    'Relative Volume 5 minutes', \n",
    "    'Relative Volume 30 minutes', \n",
    "    'Relative Volume at Time', \n",
    "    'Analyst Rating',\n",
    "    'Technical Rating 5 minutes'\n",
    "]"
   ]
  },
  {
   "cell_type": "markdown",
   "metadata": {},
   "source": [
    "get pre-market price data for SOFI\n",
    "-> do i need a websocket for pre-market data? after hours, post market ours data?\n",
    "get pre-market clone data of TradingView\n",
    "add features new and other ideas that we find"
   ]
  },
  {
   "cell_type": "code",
   "execution_count": null,
   "metadata": {},
   "outputs": [],
   "source": [
    "def get_snapshot(ticker, api_key):\n",
    "    \"\"\"\n",
    "    Retrieves the snapshot data for the specified ticker from Polygon.io.\n",
    "    \"\"\"\n",
    "    api_key = os.getenv(\"polygon_api_key\")  \n",
    "    url = f\"https://api.polygon.io/v2/snapshot/locale/us/markets/stocks/tickers/{ticker}?apiKey={api_key}\"\n",
    "    response = requests.get(url)\n",
    "    \n",
    "    if response.status_code == 200:\n",
    "        # Parse the JSON response\n",
    "        data = response.json()\n",
    "        return data\n",
    "    else:\n",
    "        # Handle any errors\n",
    "        print(f\"Error: {response.status_code} - {response.text}\")\n",
    "        return None\n",
    "\n"
   ]
  },
  {
   "cell_type": "code",
   "execution_count": null,
   "metadata": {},
   "outputs": [],
   "source": [
    "# --- USAGE EXAMPLE ---\n",
    "\n",
    "\n",
    "# Ticker symbol you want to retrieve (e.g., SOFI)\n",
    "ticker = \"SOFI\"\n",
    "\n",
    "# Call the function\n",
    "snapshot_data = get_snapshot(ticker, api_key)\n",
    "\n",
    "# Print the raw JSON response in a nice format\n",
    "if snapshot_data:\n",
    "    print(json.dumps(snapshot_data, indent=2))\n",
    "    \n",
    "    # If you want to extract specific fields, for example the last trade price:\n",
    "    if 'ticker' in snapshot_data and 'lastTrade' in snapshot_data['ticker']:\n",
    "        last_trade_price = snapshot_data['ticker']['lastTrade'].get('p')\n",
    "        print(f\"\\nThe most recent trade price for {ticker_symbol} is: {last_trade_price}\")\n",
    "    else:\n",
    "        print(\"\\nNo 'lastTrade' data found in the snapshot response.\")"
   ]
  },
  {
   "cell_type": "code",
   "execution_count": null,
   "metadata": {},
   "outputs": [],
   "source": []
  }
 ],
 "metadata": {
  "kernelspec": {
   "display_name": "sps_venv",
   "language": "python",
   "name": "python3"
  },
  "language_info": {
   "codemirror_mode": {
    "name": "ipython",
    "version": 3
   },
   "file_extension": ".py",
   "mimetype": "text/x-python",
   "name": "python",
   "nbconvert_exporter": "python",
   "pygments_lexer": "ipython3",
   "version": "3.11.1"
  }
 },
 "nbformat": 4,
 "nbformat_minor": 2
}
