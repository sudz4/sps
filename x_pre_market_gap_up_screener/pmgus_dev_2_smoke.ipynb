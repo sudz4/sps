{
 "cells": [
  {
   "cell_type": "markdown",
   "metadata": {},
   "source": [
    "pmgus_dev_2_smoke.ipynb\n",
    "\n",
    "start from gainers not from zero"
   ]
  },
  {
   "cell_type": "code",
   "execution_count": 4,
   "metadata": {},
   "outputs": [],
   "source": [
    "import pandas as pd\n",
    "import numpy as np\n",
    "import requests\n",
    "import os\n",
    "import json\n",
    "import yfinance as yf\n",
    "import datetime\n",
    "from datetime import datetime, timedelta\n",
    "from typing import List, Dict, Any"
   ]
  },
  {
   "cell_type": "code",
   "execution_count": 5,
   "metadata": {},
   "outputs": [],
   "source": [
    "import dotenv\n",
    "from dotenv import load_dotenv\n",
    "load_dotenv()\n",
    "pg_api_key = os.getenv('polygon_api_key')"
   ]
  },
  {
   "cell_type": "code",
   "execution_count": 6,
   "metadata": {},
   "outputs": [],
   "source": [
    "\n",
    "def get_premarket_gainers() -> List[str]:\n",
    "    api_key = os.getenv('polygon_api_key')\n",
    "\n",
    "    \"\"\"\n",
    "    Fetches stocks from NYSE and NASDAQ with positive pre-market price movement.\n",
    "    \n",
    "    Returns:\n",
    "        List[str]: List of ticker symbols meeting the criteria\n",
    "    \"\"\"\n",
    "    # Base URL for Polygon.io API\n",
    "    base_url = \"https://api.polygon.io/v2/snapshot/locale/us/markets/stocks/tickers\"\n",
    "    \n",
    "    # Parameters for the API request\n",
    "    params = {\n",
    "        'apiKey': api_key,\n",
    "        'exchange': 'NYSE,NASDAQ',  # Filter for NYSE and NASDAQ listed stocks\n",
    "        'market': 'stocks',\n",
    "        'active': True\n",
    "    }\n",
    "    \n",
    "    try:\n",
    "        # Make API request\n",
    "        response = requests.get(base_url, params=params)\n",
    "        response.raise_for_status()  # Raise exception for bad status codes\n",
    "        \n",
    "        data = response.json()\n",
    "        \n",
    "        # Filter for stocks with positive pre-market movement\n",
    "        gainers = []\n",
    "        for ticker in data.get('tickers', []):\n",
    "            # Get pre-market data\n",
    "            pre_market_change = ticker.get('todaysChange', 0)\n",
    "            \n",
    "            # Check if pre-market change is positive\n",
    "            if pre_market_change > 0:\n",
    "                gainers.append(ticker['ticker'])\n",
    "        \n",
    "        return gainers\n",
    "    \n",
    "    except requests.exceptions.RequestException as e:\n",
    "        print(f\"Error fetching data: {e}\")\n",
    "        return []\n",
    "    except Exception as e:\n",
    "        print(f\"Unexpected error: {e}\")\n",
    "        return []"
   ]
  },
  {
   "cell_type": "code",
   "execution_count": 11,
   "metadata": {},
   "outputs": [
    {
     "name": "stdout",
     "output_type": "stream",
     "text": [
      "Found 808 stocks with positive pre-market movement\n",
      "['LTRY', 'APPF', 'PWM', 'PNFP', 'FLYE', 'SHV', 'TSLQ', 'IRBT', 'IBN', 'INDI', 'AILE', 'OFLX', 'MSTU', 'RGTI', 'NTGR', 'CIMpA', 'AMSF', 'CORZ', 'KTOS', 'UAMY', 'PLTD', 'ITA', 'NYT', 'JL', 'CPT', 'GNLpE', 'EH', 'KD', 'XTIA', 'MMSI', 'IKNA', 'INVZ', 'BOTZ', 'BYND', 'TLRY', 'CFFI', 'RDTE', 'ACLX', 'QBTS', 'GPIX', 'STRA', 'NOVT', 'LPSN', 'LFUS', 'WISA', 'ZENA', 'MVST', 'BTDR', 'RLX', 'HSAI', 'QNTM', 'SMBK', 'MBLY', 'ETHA', 'VET', 'FIS', 'SLDP', 'MIND', 'MARA', 'STI', 'GRRR', 'NVTS', 'GXAI', 'SSB', 'FEAM', 'JNVR', 'SPB', 'PBH', 'ABVX', 'AFCG', 'LIDR', 'AHHpA', 'CTOR', 'CTNT', 'ETHE', 'NVX', 'ADUS', 'EZGO', 'PGNY', 'SLB', 'RIOT', 'AAPD', 'BASE', 'HUBB', 'AMN', 'AMPX', 'AMP', 'POOL', 'SGBX', 'OPFI', 'UVIX', 'APO', 'VZ', 'ALUR', 'ZYME', 'SOBR', 'PHGE', 'FHI', 'AKAN', 'PNC', 'AMTM', 'CYD', 'NXE', 'SIGI', 'ALDX', 'SPFI', 'CASY', 'RBCAA', 'PTIX', 'ALSN', 'BOIL', 'BNGO', 'IPX', 'DLNG', 'CEIX', 'PAYS', 'PATH', 'RVTY', 'AFL', 'SBEV', 'GSHD', 'COLB', 'WELL', 'MBIO', 'LAES', 'GDHG', 'SOHU', 'VRME', 'NXTT', 'APGE', 'LODE', 'OMEX', 'SIDU', 'GDYN', 'FNGD', 'CB', 'CNDT', 'TSLZ', 'NU', 'UNP', 'MSAI', 'AMBO', 'COIN', 'LFWD', 'CTM', 'ARBE', 'AEHL', 'SRFM', 'CMT', 'AZTA', 'GBTC', 'VXX', 'GTLB', 'AZZ', 'GMAB', 'RPD', 'PFIS', 'QRTEA', 'BRBR', 'RY', 'ABAT', 'DMRC', 'CPRX', 'LABD', 'GRYP', 'PH', 'ETHT', 'SVMH', 'X', 'SAM', 'DNA', 'PLNT', 'MSTX', 'ELEV', 'MNDR', 'TM', 'CYN', 'MAA', 'XLE', 'KITT', 'OPK', 'SNAX', 'TREX', 'TMV', 'CETX', 'QID', 'ZAPP', 'ALX', 'MSGE', 'BTCL', 'MSTR', 'GGLS', 'LLYX', 'SIRI', 'BIO', 'JCSE', 'CCNE', 'HUMA', 'BCAB', 'BTBT', 'LDTC', 'KOSS', 'UMAC', 'UNCY', 'CRKN', 'QSIAW', 'MOG.A', 'WORX', 'AFMD', 'BPOP', 'PENN', 'UAVS', 'TTGT', 'SF', 'SIG', 'KW', 'ALBpA', 'GIL', 'OLLI', 'SACH', 'KC', 'HOTH', 'HIMS', 'PLRZ', 'BTCS', 'TSDD', 'RCAT', 'DUST', 'SHW', 'VHI', 'MPC', 'LYRA', 'IRMD', 'DXD', 'LAZR', 'APLE', 'LX', 'GT', 'BBJP', 'BURU', 'PDYNW', 'RR', 'FLNC', 'BBD', 'CONL', 'OMH', 'BELFB', 'DPRO', 'WCT', 'WST', 'LFT', 'AGM', 'ROAD', 'JAGX', 'XOVR', 'BIL', 'BXC', 'ONON', 'BITX', 'BJRI', 'DTM', 'DVN', 'ACON', 'RCEL', 'SQQQ', 'ATOM', 'NVDQ', 'LGMK', 'SMR', 'ARES', 'RJF', 'EJH', 'DGX', 'NVOX', 'RLI', 'NEOV', 'GOF', 'LW', 'OPTX', 'SGOV', 'OSCR', 'IMG', 'VIXY', 'FCN', 'MAIN', 'GTBP', 'SMXT', 'ARTW', 'IDAI', 'MLEC', 'SBET', 'SMSI', 'NVDS', 'MBOT', 'MVIS', 'KURA', 'FOXO', 'COSM', 'FGEN', 'PRA', 'TRUG', 'GTLS', 'BEEM', 'VTYX', 'THRY', 'HZO', 'MGOL', 'AME', 'EQNR', 'XCUR', 'RWM', 'ASNS', 'GTY', 'TCX', 'FREY', 'POAI', 'WOLF', 'CMPX', 'BMI', 'BFST', 'BBW', 'SES', 'TLPH', 'NUKK', 'IOT', 'USO', 'AISP', 'MYSZ', 'CHEK', 'BITU', 'OPRA', 'DNMR', 'MDAI', 'SMX', 'SRTY', 'ASAN', 'VVI', 'ITRN', 'COKE', 'RVSN', 'HQY', 'CVE', 'GTI', 'SPXU', 'PCOR', 'ETH', 'ECG', 'CNMD', 'MSGS', 'MOBX', 'CYCC', 'LNZA', 'TCMD', 'IBIT', 'CACC', 'TRAK', 'SXTC', 'LGCL', 'PSQ', 'PSQH', 'RUM', 'KITTW', 'DFH', 'MKDW', 'CBAT', 'ORLY', 'NRGV', 'ERIE', 'EETH', 'CETH', 'EZET', 'TGLS', 'ATEN', 'ERNA', 'IAS', 'URI', 'DRD', 'BLRX', 'STEM', 'LAAC', 'GNRC', 'ALCE', 'LPTH', 'CONY', 'TURB', 'SPRB', 'SWIN', 'VXUS', 'BXSL', 'LIF', 'BBAR', 'NGNE', 'CBNK', 'SHOT', 'BELFA', 'BUR', 'TTE', 'HIVE', 'CBRL', 'NCNO', 'PHUN', 'QSI', 'CISO', 'HBCP', 'CYBR', 'PTEN', 'OSPN', 'TRN', 'ELMD', 'NTNX', 'PEGA', 'CENT', 'BDX', 'ASTH', 'CNXC', 'PTC', 'ITP', 'VCIG', 'SPUS', 'QMMM', 'ERIC', 'TWG', 'ABVE', 'JBDI', 'VS', 'OXM', 'TANH', 'ONDS', 'VABK', 'QMCO', 'NTCT', 'AREN', 'OZK', 'ODC', 'BFS', 'CAPT', 'APCX', 'NOTE', 'ARQQW', 'SBLK', 'RTC', 'GIII', 'GCO', 'WWD', 'RMBS', 'QUBT', 'HOV', 'BHAT', 'RDW', 'BBSI', 'HOLO', 'OBDC', 'WTS', 'WKHS', 'PLTY', 'YANG', 'ASML', 'TRMD', 'OPTT', 'HOOD', 'IJR', 'INDV', 'KYMR', 'ALBT', 'MAS', 'OTLY', 'VNET', 'WIMI', 'IREN', 'MTRX', 'UNF', 'BTC', 'SPHL', 'DIOD', 'RAY', 'PI', 'DBVT', 'AEO', 'VTOL', 'SHEL', 'MTSI', 'NAK', 'CUTR', 'BFAM', 'TTC', 'SCEpM', 'RZLV', 'SDS', 'NBTX', 'ADNWW', 'VRAX', 'CCG', 'VTLE', 'OGN', 'UNG', 'BITO', 'HUT', 'TEO', 'ORKA', 'KARO', 'AVXL', 'VIG', 'LFLYW', 'SAN', 'MULN', 'TSEM', 'TSM', 'RITM', 'VVX', 'WATT', 'CARM', 'UBXG', 'BVFL', 'BOXX', 'XLP', 'GOTU', 'RAPT', 'KSCP', 'WMB', 'FMNB', 'BCC', 'BWLP', 'WLK', 'TCBP', 'OEC', 'OPEN', 'ARKB', 'REVB', 'CLH', 'APLD', 'OSIS', 'FLGT', 'MRK', 'SLDPW', 'UTHR', 'CGC', 'TRS', 'SCLX', 'HII', 'GRFX', 'LNT', 'LI', 'PKBK', 'QTI', 'GEHC', 'IFF', 'INUV', 'SUGP', 'NVO', 'BKYI', 'SOC', 'SNDA', 'TER', 'OSS', 'FIZZ', 'ILLR', 'UVXY', 'NETZ', 'LNN', 'SPRO', 'ETHV', 'KMI', 'DLTR', 'ASX', 'HSHP', 'BLDE', 'KULR', 'ADTX', 'STT', 'AGNC', 'JEF', 'AMPG', 'NFBK', 'ALLR', 'ZG', 'CAN', 'MSTY', 'BKTI', 'SNA', 'AIYY', 'GOEV', 'SNN', 'EMKR', 'EOSE', 'HWH', 'ALTR', 'LAC', 'CRD.B', 'GROV', 'FAZ', 'GEVO', 'TECH', 'NWTNW', 'KOPN', 'PPG', 'CHRD', 'HCI', 'USPH', 'CLSD', 'SLXN', 'BDC', 'NBY', 'SENS', 'ARKG', 'GENI', 'FTLF', 'TRMB', 'SONN', 'OS', 'SRM', 'UVE', 'MTC', 'LTBR', 'EWS', 'HTGC', 'IMCR', 'TSLS', 'TSMX', 'AIN', 'ZEO', 'FRT', 'PIII', 'JJSF', 'AIEV', 'IPSC', 'BSLK', 'TIGR', 'GLL', 'GVA', 'CTRI', 'RGTIW', 'GWRE', 'OTRK', 'QLGN', 'EME', 'ICHR', 'CHTR', 'SH', 'CYTK', 'CADL', 'FNWB', 'BECN', 'FBTC', 'REKR', 'SPXS', 'JPST', 'IYJ', 'ABP', 'COR', 'OCEA', 'VERI', 'LUNA', 'LMB', 'FTCI', 'BITB', 'LU', 'VFF', 'FUBO', 'APA', 'LAMR', 'ALGT', 'IBRX', 'GWAV', 'BYON', 'HWC', 'ARKX', 'NCNA', 'HMC', 'EVTL', 'LUNR', 'HWBK', 'HSII', 'XENE', 'GSBD', 'MTB', 'ANIK', 'KSPI', 'DX', 'SHEN', 'CENTA', 'SCVL', 'MIGI', 'SKYT', 'NVDD', 'LOVE', 'REAX', 'ENSC', 'EVAX', 'VREX', 'CLSK', 'SEB', 'LICY', 'SXT', 'ZOM', 'ASIX', 'ABVC', 'VOYA', 'ZKIN', 'PRSO', 'RZLVW', 'KNW', 'HBANP', 'ACIU', 'WGMI', 'MPB', 'CMPR', 'CMCT', 'PKG', 'PGR', 'SVRE', 'UEC', 'LYB', 'NXU', 'PWP', 'SYM', 'ABEV', 'TOL', 'ORIS', 'DY', 'HST', 'ADM', 'CSV', 'UA', 'ALB', 'SDOW', 'DAVA', 'WTW', 'ORC', 'DOG', 'PRZO', 'CPHI', 'LGND', 'TEM', 'MTX', 'OTLK', 'SES.WS', 'LITM', 'CFR', 'HVT', 'THG', 'KWE', 'LYTS', 'IMRX', 'PXLW', 'PTPI', 'TSMU', 'WULF', 'AVT', 'USCB', 'SLNH', 'CBZ', 'QTUM', 'LUCD', 'FRSX', 'LLYVK', 'FCUV', 'PONY', 'QS', 'BGLC', 'CHPT', 'ETHW', 'DHI', 'VIR', 'NA', 'KROS', 'WDAY', 'NXRT', 'GLXG', 'HIMX', 'MOH', 'FNF', 'INTZ', 'CNEY', 'CZNC', 'BATRK', 'SOXS', 'SQNS', 'EXP', 'COMP', 'PDYN', 'ARGT', 'WINA', 'TZA', 'EWJ', 'PSNL', 'SNX', 'SRTS', 'FATE', 'VT', 'BNAI', 'SRLN', 'FLNG', 'EWM', 'NSP', 'PL', 'WOR', 'SAVA', 'QETH', 'UCO', 'CADE', 'ALGS', 'ETHU', 'TUR', 'JDST', 'AIOT', 'AI', 'KORE', 'ELPW']\n"
     ]
    }
   ],
   "source": [
    "# execute and find the largest group of gainers\n",
    "pm_gainers_ticker_list = get_premarket_gainers()\n",
    "\n",
    "print(f\"Found {len(pm_gainers_ticker_list)} stocks with positive pre-market movement\")\n",
    "print(pm_gainers_ticker_list)"
   ]
  }
 ],
 "metadata": {
  "kernelspec": {
   "display_name": "sps_venv",
   "language": "python",
   "name": "python3"
  },
  "language_info": {
   "codemirror_mode": {
    "name": "ipython",
    "version": 3
   },
   "file_extension": ".py",
   "mimetype": "text/x-python",
   "name": "python",
   "nbconvert_exporter": "python",
   "pygments_lexer": "ipython3",
   "version": "3.11.1"
  }
 },
 "nbformat": 4,
 "nbformat_minor": 2
}
