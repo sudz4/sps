{
 "cells": [
  {
   "cell_type": "markdown",
   "metadata": {},
   "source": [
    "| pmgus.ipynb |\n",
    "|-|\n",
    "| \"Pre-Market Gap-Up Screener\" |"
   ]
  },
  {
   "cell_type": "code",
   "execution_count": null,
   "metadata": {},
   "outputs": [],
   "source": [
    "\n",
    "# # show all pandas row width\n",
    "# pd.set_option('display.max_rows', None)\n",
    "# # show all pandas column width\n",
    "# pd.set_option('display.max_columns', None)\n"
   ]
  },
  {
   "cell_type": "code",
   "execution_count": 3,
   "metadata": {},
   "outputs": [],
   "source": [
    "\n",
    "import numpy as np\n",
    "import mplfinance as mpf\n",
    "import matplotlib.pyplot as plt\n",
    "import vectorbt as vbt\n",
    "from ta.trend import MACD\n",
    "\n",
    "from ta.momentum import RSIIndicator\n",
    "from ta.trend import SMAIndicator\n",
    "from ta.momentum import RSIIndicator, StochasticOscillator\n",
    "from ta.trend import SMAIndicator, MACD, PSARIndicator\n",
    "from ta.volatility import BollingerBands, AverageTrueRange\n",
    "from ta.volume import OnBalanceVolumeIndicator\n",
    "from datetime import datetime\n",
    "from datetime import timedelta as td\n",
    "import time\n",
    "from tqdm import tqdm  # Visualize loop progress\n",
    "from sklearn.linear_model import LinearRegression\n",
    "from tenacity import retry, stop_after_attempt, wait_fixed\n",
    "from datetime import datetime, timedelta\n",
    "\n",
    "import pandas as pd\n",
    "import numpy as np\n",
    "pd.set_option('display.colheader_justify', 'left')  # Left-align column headers\n",
    "pd.set_option('display.max_columns', None)\n",
    "pd.set_option('display.max_rows', None)\n",
    "pd.set_option('display.max_colwidth', None)\n",
    "vbt.settings.set_theme('dark')\n",
    "# vbt.settings.plotting.aut_rangebreaks = True\n",
    "\n",
    "import requests\n",
    "import json\n",
    "import os\n",
    "import pytz # timezone\n",
    "import warnings"
   ]
  },
  {
   "cell_type": "markdown",
   "metadata": {},
   "source": [
    "| LEVEL #0 - DATA IMPORT |\n",
    "|-|\n",
    "| file import setup |"
   ]
  },
  {
   "cell_type": "code",
   "execution_count": 4,
   "metadata": {},
   "outputs": [
    {
     "name": "stdout",
     "output_type": "stream",
     "text": [
      "/Users/sudz4/Desktop/SPS_local/sps/x_pre_market_gap_up_screener/tv_screen_gap-up_2024-11-20.csv\n",
      "1437\n",
      "0     NVDA\n",
      "1     MSFT\n",
      "2     META\n",
      "3    BRK.B\n",
      "4      LLY\n",
      "Name: Symbol, dtype: object\n"
     ]
    }
   ],
   "source": [
    "# base file path and file path setup\n",
    "base_dir_path = '/Users/sudz4/Desktop/SPS_local/sps/x_pre_market_gap_up_screener/' \n",
    "std_file_name_str = 'tv_screen_gap-up_'\n",
    "\n",
    "#####---------------------#####\n",
    "# screen_date = '2024-11-05' \n",
    "# screen_date = '2024-11-07'\n",
    "\n",
    "# screen_date = '2024-11-15'\n",
    "screen_date = '2024-11-20'\n",
    "#####---------------------#####\n",
    "\n",
    "file_type = '.csv'\n",
    "filename = base_dir_path + std_file_name_str + screen_date + file_type\n",
    "\n",
    "# read the csv file\n",
    "print(filename)\n",
    "trading_view_df = pd.read_csv(filename)\n",
    "print(len(trading_view_df))\n",
    "# print first 5 ticker Symbols only\n",
    "print(trading_view_df['Symbol'].head(5))"
   ]
  },
  {
   "cell_type": "markdown",
   "metadata": {},
   "source": [
    "| LEVEL #1 - SCREENER |\n",
    "|-|\n",
    "| xxx |"
   ]
  },
  {
   "cell_type": "code",
   "execution_count": 5,
   "metadata": {},
   "outputs": [
    {
     "name": "stdout",
     "output_type": "stream",
     "text": [
      "84 stockes found in the screener.\n"
     ]
    }
   ],
   "source": [
    "def categorize_market_cap(df):\n",
    "    \"\"\"Categorize stocks based on market capitalization.\"\"\"\n",
    "    df['Market capitalization'] = pd.to_numeric(df['Market capitalization'], errors='coerce')\n",
    "    conditions = [\n",
    "        (df['Market capitalization'] >= 200_000_000_000),  # Titans\n",
    "        (df['Market capitalization'] >= 10_000_000_000) & (df['Market capitalization'] < 200_000_000_000),  # Large caps\n",
    "        (df['Market capitalization'] >= 2_000_000_000) & (df['Market capitalization'] < 10_000_000_000),  # Mid caps\n",
    "        (df['Market capitalization'] >= 300_000_000) & (df['Market capitalization'] < 2_000_000_000),  # Small caps\n",
    "        (df['Market capitalization'] > 50_000_000) & (df['Market capitalization'] < 300_000_000),  # Micro caps\n",
    "        (df['Market capitalization'] <= 50_000_000)  # Shrimp\n",
    "    ]\n",
    "    categories = ['Titans', 'Large caps', 'Mid caps', 'Small caps', 'Micro caps', 'Shrimp']\n",
    "    df['marketCapType'] = np.select(conditions, categories, default='Undefined')\n",
    "    return df\n",
    "\n",
    "# execute categorization\n",
    "category_setup_df = categorize_market_cap(trading_view_df).copy()\n",
    "\n",
    "# drop Undefined marketCapType\n",
    "category_setup_df = category_setup_df[category_setup_df['marketCapType'] != 'Undefined']\n",
    "\n",
    "# convert necessary columns to numeric\n",
    "def convert_columns_to_numeric(df, columns):\n",
    "    \"\"\"Convert specified columns to numeric types.\"\"\"\n",
    "    for col in columns:\n",
    "        df[col] = pd.to_numeric(df[col], errors='coerce')\n",
    "    return df\n",
    "\n",
    "# list of columns to convert\n",
    "numeric_columns = [\n",
    "    'Market capitalization', 'Float shares outstanding', 'Relative Volume 1 day',\n",
    "    'Relative Volume at Time', 'Pre-market Change %', 'Pre-market Gap %',\n",
    "    'Price', 'Volume Weighted Average Price 1 day', 'Volatility 1 day',\n",
    "    'Volatility 1 week', 'Volatility 1 month', 'Pre-market Volume'\n",
    "]\n",
    "\n",
    "# Apply conversion\n",
    "category_setup_df = convert_columns_to_numeric(category_setup_df, numeric_columns)\n",
    "\n",
    "# Criteria configuration for each market cap category\n",
    "criteria_config = {\n",
    "    \"Titans\": {\n",
    "        \"pre_market_change_pct_threshold\": 0.002,  # 0.2% for Titans\n",
    "        \"float_shares_outstanding_threshold\": 1_000_000_000,  # 1 billion shares\n",
    "        \"relative_volume_threshold\": 1.2,\n",
    "        \"relative_volume_at_time_threshold\": 0.03,\n",
    "        \"pre_market_gap_percentage_threshold\": 0.001,  # 0.1%\n",
    "        \"pre_market_vwap_drawdown_threshold\": 0.003,  # 0.3% drawdown from VWAP\n",
    "        \"pre_market_volume_threshold\": 50_000  # Minimum pre-market volume\n",
    "    },\n",
    "    \"Large caps\": {\n",
    "        \"pre_market_change_pct_threshold\": 0.005,  # 0.5% for Large caps\n",
    "        \"float_shares_outstanding_threshold\": 200000000,  # 200 million shares\n",
    "        \"relative_volume_threshold\": 1.3,  # More inclusive\n",
    "        \"relative_volume_at_time_threshold\": 0.04,  # More inclusive\n",
    "        \"pre_market_gap_percentage_threshold\": 0.005,  # 0.5%\n",
    "        \"pre_market_vwap_drawdown_threshold\": 0.004,  # 0.4% drawdown from VWAP\n",
    "        \"pre_market_volume_threshold\": 50000  # Minimum pre-market volume\n",
    "    },\n",
    "    # \"Midlers\" in TradingView\n",
    "    \"Midlers\": { \n",
    "        \"pre_market_change_pct_threshold\": 0.02,  # 2% for Midlers \n",
    "        \"float_shares_outstanding_threshold\": 50000000,  # 50 million shares\n",
    "        \"relative_volume_threshold\": 1.3,\n",
    "        \"relative_volume_at_time_threshold\": 0.05,\n",
    "        \"pre_market_gap_percentage_threshold\": 0.02,\n",
    "        \"pre_market_vwap_drawdown_threshold\": 0.005,  # 0.5% drawdown from VWAP\n",
    "        \"pre_market_volume_threshold\": 50000  # Minimum pre-market volume\n",
    "    },\n",
    "    \"Small caps\": {\n",
    "        \"pre_market_change_pct_threshold\": 0.03,  # 3% for Small caps\n",
    "        \"float_shares_outstanding_threshold\": 20000000,  # 20 million shares\n",
    "        \"relative_volume_threshold\": 1.2,\n",
    "        \"relative_volume_at_time_threshold\": 0.05,\n",
    "        \"pre_market_gap_percentage_threshold\": 0.03,\n",
    "        \"pre_market_vwap_drawdown_threshold\": 0.006,  # 0.6% drawdown from VWAP\n",
    "        \"pre_market_volume_threshold\": 50000  # Minimum pre-market volume\n",
    "    },\n",
    "    \"Micro caps\": {\n",
    "        \"pre_market_change_pct_threshold\": 0.04,  # 4% for Micro caps\n",
    "        \"float_shares_outstanding_threshold\": 5000000,  # 5 million shares\n",
    "        \"relative_volume_threshold\": 1.1,\n",
    "        \"relative_volume_at_time_threshold\": 0.05,\n",
    "        \"pre_market_gap_percentage_threshold\": 0.04,\n",
    "        \"pre_market_vwap_drawdown_threshold\": 0.007,  # 0.7% drawdown from VWAP\n",
    "        \"pre_market_volume_threshold\": 50000  # Minimum pre-market volume\n",
    "    },\n",
    "    \"Shrimp\": {\n",
    "        \"pre_market_change_pct_threshold\": 0.05,  # 5% for Shrimp\n",
    "        \"float_shares_outstanding_threshold\": 1000000,  # 1 million shares\n",
    "        \"relative_volume_threshold\": 1.0,\n",
    "        \"relative_volume_at_time_threshold\": 0.05,\n",
    "        \"pre_market_gap_percentage_threshold\": 0.05,\n",
    "        \"pre_market_vwap_drawdown_threshold\": 0.008, # 0.8% drawdown from VWAP\n",
    "        \"pre_market_volume_threshold\": 50000  # Minimum pre-market volume\n",
    "    }\n",
    "}\n",
    "\n",
    "def filter_stocks(df, config):\n",
    "    \"\"\"Filter stocks based on configuration criteria.\"\"\"\n",
    "    conditions = (\n",
    "        (df['Pre-market Change %'] >= config.get('pre_market_change_pct_threshold', 0)) &\n",
    "        (df['Float shares outstanding'] <= config.get('float_shares_outstanding_threshold', float('inf'))) &\n",
    "        (df['Relative Volume 1 day'] >= config.get('relative_volume_threshold', 0)) &\n",
    "        (df['Relative Volume at Time'] >= config.get('relative_volume_at_time_threshold', 0)) &\n",
    "        (df['Pre-market Gap %'] >= config.get('pre_market_gap_percentage_threshold', 0)) &\n",
    "        (df['Price'] >= df['Volume Weighted Average Price 1 day'] * (1 - config.get('pre_market_vwap_drawdown_threshold', 0))) &\n",
    "        (df['Volatility 1 day'] >= df['Volatility 1 week']) &\n",
    "        (df['Volatility 1 day'] >= df['Volatility 1 month']) &\n",
    "        (df['Pre-market Volume'] >= config.get('pre_market_volume_threshold', 0))\n",
    "    )\n",
    "    return df[conditions]\n",
    "\n",
    "def screen_stocks_by_category(df, category):\n",
    "    \"\"\"Filter stocks in a category using predefined criteria.\"\"\"\n",
    "    config = criteria_config.get(category, {})\n",
    "    filtered_df = filter_stocks(df, config)\n",
    "    return filtered_df\n",
    "\n",
    "# execute filtering\n",
    "smash_df = pd.DataFrame()\n",
    "categories = category_setup_df['marketCapType'].unique()\n",
    "\n",
    "for category in categories:\n",
    "    category_df = category_setup_df[category_setup_df['marketCapType'] == category]\n",
    "    gap_up_stage_df = screen_stocks_by_category(category_df, category)\n",
    "    smash_df = pd.concat([smash_df, gap_up_stage_df], ignore_index=True)\n",
    "\n",
    "# add 'Market capitalization' to the reordered columns list\n",
    "cols_list = [\n",
    "    'Symbol', \n",
    "    'Description', \n",
    "    'marketCapType', \n",
    "    'Pre-market Change %', \n",
    "    'Pre-market Gap %', \n",
    "    'marketCapType',\n",
    "    'Market capitalization',\n",
    "    'Price', \n",
    "    'Pre-market Open', \n",
    "    'Industry', \n",
    "    'Index', \n",
    "    'Sector', \n",
    "    'Exchange',\n",
    "    'Recent earnings date', \n",
    "    'Upcoming earnings date', \n",
    "    'Float shares outstanding', \n",
    "    'Average Volume 10 days',\n",
    "    'Average Volume 30 days', \n",
    "    'Average Volume 90 days',\n",
    "    'Relative Volume 1 day', \n",
    "    'Relative Volume 5 minutes', \n",
    "    'Relative Volume 30 minutes', \n",
    "    'Relative Volume at Time', \n",
    "    'Analyst Rating'\n",
    "]\n",
    "\n",
    "# filter columns to only include those present in the DataFrame\n",
    "existing_cols = [col for col in cols_list if col in smash_df.columns]\n",
    "smash_df = smash_df[existing_cols]\n",
    "\n",
    "# sort and reset index\n",
    "smash_df = smash_df.sort_values(\n",
    "    by=['Pre-market Change %', 'Price'],\n",
    "    ascending=[False, False]).reset_index(drop=True)\n",
    "\n",
    "print(f\"{smash_df.shape[0]} stockes found in the screener.\")\n",
    "# ## ISSUE ##\n",
    "# #### HARD CODED FILE PATH ####\n",
    "# # also change this if you add another level, you probably will to screener_smoke \n",
    "# # output_filename = f'pre_market_gap_up_screener_targets_{today_date_str}.csv'\n",
    "# output_filename = f'/Users/sudz4/Desktop/BOOK-II/nowbear/stgy_pm-gap-up-screener/data_pmgus/output_pmgus/pre_market_gap_up_screener_targets_2024-09-26.csv'\n",
    "\n",
    "# smash_df.to_csv(output_filename, index=False)"
   ]
  },
  {
   "cell_type": "code",
   "execution_count": 6,
   "metadata": {},
   "outputs": [
    {
     "name": "stdout",
     "output_type": "stream",
     "text": [
      "24\n",
      "Index(['Symbol', 'Description', 'marketCapType', 'Pre-market Change %',\n",
      "       'Pre-market Gap %', 'marketCapType', 'Market capitalization', 'Price',\n",
      "       'Pre-market Open', 'Industry', 'Index', 'Sector', 'Exchange',\n",
      "       'Recent earnings date', 'Upcoming earnings date',\n",
      "       'Float shares outstanding', 'Average Volume 10 days',\n",
      "       'Average Volume 30 days', 'Average Volume 90 days',\n",
      "       'Relative Volume 1 day', 'Relative Volume 5 minutes',\n",
      "       'Relative Volume 30 minutes', 'Relative Volume at Time',\n",
      "       'Analyst Rating'],\n",
      "      dtype='object')\n"
     ]
    }
   ],
   "source": [
    "print(len(smash_df.columns))\n",
    "print(smash_df.columns)"
   ]
  },
  {
   "cell_type": "code",
   "execution_count": 7,
   "metadata": {},
   "outputs": [
    {
     "name": "stdout",
     "output_type": "stream",
     "text": [
      "84\n"
     ]
    },
    {
     "data": {
      "text/html": [
       "<div>\n",
       "<style scoped>\n",
       "    .dataframe tbody tr th:only-of-type {\n",
       "        vertical-align: middle;\n",
       "    }\n",
       "\n",
       "    .dataframe tbody tr th {\n",
       "        vertical-align: top;\n",
       "    }\n",
       "\n",
       "    .dataframe thead th {\n",
       "        text-align: right;\n",
       "    }\n",
       "</style>\n",
       "<table border=\"1\" class=\"dataframe\">\n",
       "  <thead>\n",
       "    <tr style=\"text-align: left;\">\n",
       "      <th></th>\n",
       "      <th>Symbol</th>\n",
       "      <th>Description</th>\n",
       "      <th>marketCapType</th>\n",
       "      <th>Pre-market Change %</th>\n",
       "      <th>Pre-market Gap %</th>\n",
       "      <th>marketCapType</th>\n",
       "      <th>Market capitalization</th>\n",
       "      <th>Price</th>\n",
       "      <th>Pre-market Open</th>\n",
       "      <th>Industry</th>\n",
       "      <th>Index</th>\n",
       "      <th>Sector</th>\n",
       "      <th>Exchange</th>\n",
       "      <th>Recent earnings date</th>\n",
       "      <th>Upcoming earnings date</th>\n",
       "      <th>Float shares outstanding</th>\n",
       "      <th>Average Volume 10 days</th>\n",
       "      <th>Average Volume 30 days</th>\n",
       "      <th>Average Volume 90 days</th>\n",
       "      <th>Relative Volume 1 day</th>\n",
       "      <th>Relative Volume 5 minutes</th>\n",
       "      <th>Relative Volume 30 minutes</th>\n",
       "      <th>Relative Volume at Time</th>\n",
       "      <th>Analyst Rating</th>\n",
       "    </tr>\n",
       "  </thead>\n",
       "  <tbody>\n",
       "    <tr>\n",
       "      <th>0</th>\n",
       "      <td>XCUR</td>\n",
       "      <td>Exicure, Inc.</td>\n",
       "      <td>Shrimp</td>\n",
       "      <td>21.649485</td>\n",
       "      <td>3.092784</td>\n",
       "      <td>Shrimp</td>\n",
       "      <td>1.264292e+07</td>\n",
       "      <td>5.82</td>\n",
       "      <td>6.0</td>\n",
       "      <td>Biotechnology</td>\n",
       "      <td>NASDAQ Composite</td>\n",
       "      <td>Health technology</td>\n",
       "      <td>NASDAQ</td>\n",
       "      <td>2024-11-14</td>\n",
       "      <td>2025-03-06</td>\n",
       "      <td>6.603253e+05</td>\n",
       "      <td>699298.9</td>\n",
       "      <td>355235.366667</td>\n",
       "      <td>1.093804e+06</td>\n",
       "      <td>11.137062</td>\n",
       "      <td>1.217370</td>\n",
       "      <td>1.389796</td>\n",
       "      <td>12.228141</td>\n",
       "      <td>NaN</td>\n",
       "    </tr>\n",
       "    <tr>\n",
       "      <th>1</th>\n",
       "      <td>WIX</td>\n",
       "      <td>Wix.com Ltd.</td>\n",
       "      <td>Large caps</td>\n",
       "      <td>14.846426</td>\n",
       "      <td>6.496331</td>\n",
       "      <td>Large caps</td>\n",
       "      <td>1.023604e+10</td>\n",
       "      <td>183.95</td>\n",
       "      <td>195.9</td>\n",
       "      <td>Information technology services</td>\n",
       "      <td>NASDAQ Composite, ISE CTA Cloud Computing, NASDAQ Computer</td>\n",
       "      <td>Technology services</td>\n",
       "      <td>NASDAQ</td>\n",
       "      <td>2024-11-20</td>\n",
       "      <td>2025-02-19</td>\n",
       "      <td>5.345770e+07</td>\n",
       "      <td>576124.3</td>\n",
       "      <td>433619.666667</td>\n",
       "      <td>4.152830e+05</td>\n",
       "      <td>1.604416</td>\n",
       "      <td>4.068996</td>\n",
       "      <td>4.587508</td>\n",
       "      <td>1.724574</td>\n",
       "      <td>Strong buy</td>\n",
       "    </tr>\n",
       "  </tbody>\n",
       "</table>\n",
       "</div>"
      ],
      "text/plain": [
       "  Symbol Description    marketCapType  Pre-market Change %  Pre-market Gap %  \\\n",
       "0  XCUR   Exicure, Inc.      Shrimp    21.649485            3.092784           \n",
       "1   WIX    Wix.com Ltd.  Large caps    14.846426            6.496331           \n",
       "\n",
       "  marketCapType  Market capitalization  Price   Pre-market Open  \\\n",
       "0      Shrimp    1.264292e+07             5.82    6.0             \n",
       "1  Large caps    1.023604e+10           183.95  195.9             \n",
       "\n",
       "  Industry                          \\\n",
       "0                    Biotechnology   \n",
       "1  Information technology services   \n",
       "\n",
       "  Index                                                        \\\n",
       "0                                            NASDAQ Composite   \n",
       "1  NASDAQ Composite, ISE CTA Cloud Computing, NASDAQ Computer   \n",
       "\n",
       "  Sector               Exchange Recent earnings date Upcoming earnings date  \\\n",
       "0    Health technology  NASDAQ   2024-11-14           2025-03-06              \n",
       "1  Technology services  NASDAQ   2024-11-20           2025-02-19              \n",
       "\n",
       "   Float shares outstanding  Average Volume 10 days  Average Volume 30 days  \\\n",
       "0  6.603253e+05              699298.9                355235.366667            \n",
       "1  5.345770e+07              576124.3                433619.666667            \n",
       "\n",
       "   Average Volume 90 days  Relative Volume 1 day  Relative Volume 5 minutes  \\\n",
       "0  1.093804e+06            11.137062              1.217370                    \n",
       "1  4.152830e+05             1.604416              4.068996                    \n",
       "\n",
       "   Relative Volume 30 minutes  Relative Volume at Time Analyst Rating  \n",
       "0  1.389796                    12.228141                       NaN     \n",
       "1  4.587508                     1.724574                Strong buy     "
      ]
     },
     "metadata": {},
     "output_type": "display_data"
    }
   ],
   "source": [
    "# display(smash_df.head(4))\n",
    "print(len(smash_df))\n",
    "display(smash_df.head(2))"
   ]
  },
  {
   "cell_type": "markdown",
   "metadata": {},
   "source": [
    "X ---- testing yahoo api"
   ]
  },
  {
   "cell_type": "code",
   "execution_count": null,
   "metadata": {},
   "outputs": [
    {
     "name": "stderr",
     "output_type": "stream",
     "text": [
      "[*********************100%***********************]  1 of 1 completed"
     ]
    },
    {
     "name": "stdout",
     "output_type": "stream",
     "text": [
      "Price      Adj Close  Close      High    Low        Open       Volume  \n",
      "Ticker     ADMA       ADMA       ADMA    ADMA       ADMA       ADMA    \n",
      "Date                                                                   \n",
      "2024-11-20  21.370001  21.370001  21.395  20.469999  20.629999  2244100\n"
     ]
    },
    {
     "name": "stderr",
     "output_type": "stream",
     "text": [
      "\n"
     ]
    }
   ],
   "source": [
    "# testing yahoo finance api\n",
    "## most recent\n",
    "ticker = \"ADMA\"\n",
    "data = yf.download(ticker, period=\"1d\")\n",
    "\n",
    "print(data)"
   ]
  },
  {
   "cell_type": "code",
   "execution_count": 15,
   "metadata": {},
   "outputs": [
    {
     "name": "stderr",
     "output_type": "stream",
     "text": [
      "[*********************100%***********************]  1 of 1 completed"
     ]
    },
    {
     "name": "stdout",
     "output_type": "stream",
     "text": [
      "Price      Adj Close Close  High       Low    Open  Volume  \n",
      "Ticker     ADMA      ADMA   ADMA       ADMA   ADMA  ADMA    \n",
      "Date                                                        \n",
      "2024-11-11  22.48     22.48  23.639999  21.84  23.0  4840600\n"
     ]
    },
    {
     "name": "stderr",
     "output_type": "stream",
     "text": [
      "\n"
     ]
    }
   ],
   "source": [
    "# testing retrieval\n",
    "## specific date\n",
    "specific_date = \"2024-11-11\"\n",
    "\n",
    "# Download the data for the specific date\n",
    "data_sd = yf.download(ticker, start=specific_date, end=(datetime.strptime(specific_date, '%Y-%m-%d') + timedelta(days=1)).strftime('%Y-%m-%d'))\n",
    "\n",
    "# Print the data\n",
    "print(data_sd)"
   ]
  },
  {
   "cell_type": "markdown",
   "metadata": {},
   "source": [
    "2 - technical indicators"
   ]
  },
  {
   "cell_type": "code",
   "execution_count": null,
   "metadata": {},
   "outputs": [],
   "source": [
    "# printing raw to dictionary to inspect\n",
    "# Get ticker object\n",
    "ticker = yf.Ticker('ADMA')\n",
    "\n",
    "# Print raw info dictionary\n",
    "print(\"\\nRaw Info Dictionary:\")\n",
    "for key, value in ticker.info.items():\n",
    "    print(f\"{key}: {value}\")\n",
    "\n",
    "# # Show available attributes/methods\n",
    "# print(\"\\nAvailable attributes/methods:\")\n",
    "# for method in dir(ticker):\n",
    "#     if not method.startswith('_'):\n",
    "#         print(method)"
   ]
  },
  {
   "cell_type": "code",
   "execution_count": 21,
   "metadata": {},
   "outputs": [
    {
     "name": "stdout",
     "output_type": "stream",
     "text": [
      "84\n",
      "84\n"
     ]
    },
    {
     "data": {
      "text/html": [
       "<div>\n",
       "<style scoped>\n",
       "    .dataframe tbody tr th:only-of-type {\n",
       "        vertical-align: middle;\n",
       "    }\n",
       "\n",
       "    .dataframe tbody tr th {\n",
       "        vertical-align: top;\n",
       "    }\n",
       "\n",
       "    .dataframe thead th {\n",
       "        text-align: right;\n",
       "    }\n",
       "</style>\n",
       "<table border=\"1\" class=\"dataframe\">\n",
       "  <thead>\n",
       "    <tr style=\"text-align: left;\">\n",
       "      <th></th>\n",
       "      <th>Symbol</th>\n",
       "      <th>Description</th>\n",
       "      <th>marketCapType</th>\n",
       "    </tr>\n",
       "  </thead>\n",
       "  <tbody>\n",
       "    <tr>\n",
       "      <th>0</th>\n",
       "      <td>XCUR</td>\n",
       "      <td>Exicure, Inc.</td>\n",
       "      <td>Shrimp</td>\n",
       "    </tr>\n",
       "    <tr>\n",
       "      <th>1</th>\n",
       "      <td>WIX</td>\n",
       "      <td>Wix.com Ltd.</td>\n",
       "      <td>Large caps</td>\n",
       "    </tr>\n",
       "  </tbody>\n",
       "</table>\n",
       "</div>"
      ],
      "text/plain": [
       "  Symbol Description    marketCapType\n",
       "0  XCUR   Exicure, Inc.      Shrimp  \n",
       "1   WIX    Wix.com Ltd.  Large caps  "
      ]
     },
     "metadata": {},
     "output_type": "display_data"
    }
   ],
   "source": [
    "# pmgus_df\n",
    "explode_df = smash_df.iloc[:, [0,1, 2]]\n",
    "\n",
    "print(len(smash_df))\n",
    "print(len(explode_df))\n",
    "\n",
    "display(explode_df.head(2))"
   ]
  },
  {
   "cell_type": "code",
   "execution_count": null,
   "metadata": {},
   "outputs": [],
   "source": []
  },
  {
   "cell_type": "code",
   "execution_count": null,
   "metadata": {},
   "outputs": [],
   "source": []
  },
  {
   "cell_type": "code",
   "execution_count": 15,
   "metadata": {},
   "outputs": [
    {
     "name": "stdout",
     "output_type": "stream",
     "text": [
      "84\n",
      "84\n",
      "['XCUR', 'WIX', 'GLBE', 'ZIM', 'MSTR', 'LMND', 'EE', 'RUM', 'CORZ', 'BPMC', 'LNTH', 'ACHR', 'KT', 'ERJ', 'HAFN', 'SKYW', 'MTSI', 'EXAS', 'CRDO', 'SOBO', 'UFPI', 'BKE', 'SOUN', 'KNF', 'OSCR', 'AMBA', 'MGNI', 'AEIS', 'RSI', 'GVA', 'NXE', 'KBH', 'TRUP', 'CRS', 'ROAD', 'ENIC', 'GEO', 'U', 'PRKS', 'MASI', 'SWTX', 'RDNT', 'NOV', 'PI', 'PTON', 'LFST', 'CXW', 'CXT', 'NPWR', 'MAIN', 'BRBR', 'INTA', 'SHAK', 'CWAN', 'CSWI', 'SMTC', 'IESC', 'CPA', 'CNXC', 'ADUS', 'OBDC', 'BROS', 'ALK', 'CZR', 'VRNA', 'FSK', 'WB', 'S', 'CRGY', 'CLF', 'PLNT', 'STR', 'AVPT', 'BXSL', 'RVLV', 'GOGL', 'CALX', 'ITRI', 'SG', 'ADMA', 'VCTR', 'CFLT', 'AXSM', 'RLX']\n"
     ]
    }
   ],
   "source": [
    "# return smash_list of Symbols\n",
    "smash_list = smash_df['Symbol'].tolist()\n",
    "\n",
    "\n",
    "print(len(smash_df))\n",
    "print(len(smash_list))\n",
    "print(smash_list)\n"
   ]
  },
  {
   "cell_type": "markdown",
   "metadata": {},
   "source": [
    "return current stock price"
   ]
  },
  {
   "cell_type": "markdown",
   "metadata": {},
   "source": [
    "\"quick back test\"\n",
    "which tickers from smash_list did well on today\n",
    "1-baseline buy sell w/same time b/s\n",
    "2-dynamic sell same buy\n",
    "\n",
    "1-specific day to back test\n",
    "2-move code over for specific times\n",
    "3-baseline times\n",
    "4-other ideas time segments\n",
    "5-dynamic buy windows IF only?"
   ]
  },
  {
   "cell_type": "code",
   "execution_count": 16,
   "metadata": {},
   "outputs": [
    {
     "name": "stdout",
     "output_type": "stream",
     "text": [
      "2024-11-20\n"
     ]
    }
   ],
   "source": [
    "# start----quick back test function\n",
    "print(screen_date)"
   ]
  },
  {
   "cell_type": "code",
   "execution_count": 17,
   "metadata": {},
   "outputs": [],
   "source": [
    "from datetime import datetime\n",
    "\n",
    "# Use datetime.strptime() where needed"
   ]
  },
  {
   "cell_type": "code",
   "execution_count": 31,
   "metadata": {},
   "outputs": [],
   "source": [
    "####---quick start back tests\n",
    "def quick_backtest(df, day):\n",
    "    symbols = df['Symbol'].tolist()\n",
    "    stock_data = {}\n",
    "\n",
    "    for symbol in symbols:\n",
    "        ticker = yf.Ticker(symbol)\n",
    "        qbt_data = ticker.history(start=day, end=(datetime.strptime(day, '%Y-%m-%d') + timedelta(days=1)).strftime('%Y-%m-%d'), interval='1m')\n",
    "\n",
    "        if not qbt_data.empty:\n",
    "            stock_data[symbol] = {\n",
    "                'High': qbt_data['High'].values[0],\n",
    "                'Low': qbt_data['Low'].values[0],\n",
    "                'Open': qbt_data['Open'].values[0],\n",
    "                'Close': qbt_data['Close'].values[0],\n",
    "                'Volume': qbt_data['Volume'].values[0],\n",
    "                'Date': qbt_data.index[0]\n",
    "            }\n",
    "        else:\n",
    "            qbt_data[symbol] = {\n",
    "                'High': None,\n",
    "                'Low': None,\n",
    "                'Open': None,\n",
    "                'Close': None,\n",
    "                'Volume': None,\n",
    "                'Date': None\n",
    "            }\n",
    "\n",
    "    qbt_stg_df = pd.DataFrame(qbt_data).T.reset_index().rename(columns={'index': 'Symbol'})\n",
    "    \n",
    "    ####\n",
    "\n",
    "    return qbt_stg_df"
   ]
  },
  {
   "cell_type": "code",
   "execution_count": 29,
   "metadata": {},
   "outputs": [
    {
     "name": "stdout",
     "output_type": "stream",
     "text": [
      "2024-11-20\n"
     ]
    }
   ],
   "source": [
    "# execute\n",
    "print(screen_date)"
   ]
  },
  {
   "cell_type": "code",
   "execution_count": 34,
   "metadata": {},
   "outputs": [],
   "source": [
    "other_screen_date = '2024-11-14'"
   ]
  },
  {
   "cell_type": "code",
   "execution_count": 35,
   "metadata": {},
   "outputs": [
    {
     "name": "stderr",
     "output_type": "stream",
     "text": [
      "$XCUR: possibly delisted; no price data found  (1m 2024-11-14 -> 2024-11-15)\n",
      "$WIX: possibly delisted; no price data found  (1m 2024-11-14 -> 2024-11-15)\n",
      "$GLBE: possibly delisted; no price data found  (1m 2024-11-14 -> 2024-11-15)\n",
      "$ZIM: possibly delisted; no price data found  (1m 2024-11-14 -> 2024-11-15)\n",
      "Failed to get ticker 'MSTR' reason: HTTPSConnectionPool(host='fc.yahoo.com', port=443): Max retries exceeded with url: / (Caused by NameResolutionError(\"<urllib3.connection.HTTPSConnection object at 0x165827ed0>: Failed to resolve 'fc.yahoo.com' ([Errno 8] nodename nor servname provided, or not known)\"))\n",
      "$MSTR: possibly delisted; no timezone found\n",
      "Failed to get ticker 'LMND' reason: HTTPSConnectionPool(host='fc.yahoo.com', port=443): Max retries exceeded with url: / (Caused by NameResolutionError(\"<urllib3.connection.HTTPSConnection object at 0x1658248d0>: Failed to resolve 'fc.yahoo.com' ([Errno 8] nodename nor servname provided, or not known)\"))\n",
      "$LMND: possibly delisted; no timezone found\n",
      "$EE: possibly delisted; no price data found  (1m 2024-11-14 -> 2024-11-15)\n",
      "$RUM: possibly delisted; no price data found  (1m 2024-11-14 -> 2024-11-15)\n",
      "$CORZ: possibly delisted; no price data found  (1m 2024-11-14 -> 2024-11-15)\n",
      "Failed to get ticker 'BPMC' reason: HTTPSConnectionPool(host='fc.yahoo.com', port=443): Max retries exceeded with url: / (Caused by NameResolutionError(\"<urllib3.connection.HTTPSConnection object at 0x165817850>: Failed to resolve 'fc.yahoo.com' ([Errno 8] nodename nor servname provided, or not known)\"))\n",
      "$BPMC: possibly delisted; no timezone found\n",
      "$LNTH: possibly delisted; no price data found  (1m 2024-11-14 -> 2024-11-15)\n",
      "Failed to get ticker 'ACHR' reason: HTTPSConnectionPool(host='fc.yahoo.com', port=443): Max retries exceeded with url: / (Caused by NameResolutionError(\"<urllib3.connection.HTTPSConnection object at 0x1656cd990>: Failed to resolve 'fc.yahoo.com' ([Errno 8] nodename nor servname provided, or not known)\"))\n",
      "$ACHR: possibly delisted; no timezone found\n",
      "Failed to get ticker 'KT' reason: HTTPSConnectionPool(host='fc.yahoo.com', port=443): Max retries exceeded with url: / (Caused by NameResolutionError(\"<urllib3.connection.HTTPSConnection object at 0x165824a50>: Failed to resolve 'fc.yahoo.com' ([Errno 8] nodename nor servname provided, or not known)\"))\n",
      "$KT: possibly delisted; no timezone found\n",
      "$ERJ: possibly delisted; no price data found  (1m 2024-11-14 -> 2024-11-15)\n",
      "$HAFN: possibly delisted; no price data found  (1m 2024-11-14 -> 2024-11-15)\n",
      "$SKYW: possibly delisted; no price data found  (1m 2024-11-14 -> 2024-11-15)\n",
      "$MTSI: possibly delisted; no price data found  (1m 2024-11-14 -> 2024-11-15)\n",
      "Failed to get ticker 'EXAS' reason: HTTPSConnectionPool(host='fc.yahoo.com', port=443): Max retries exceeded with url: / (Caused by NameResolutionError(\"<urllib3.connection.HTTPSConnection object at 0x165824f90>: Failed to resolve 'fc.yahoo.com' ([Errno 8] nodename nor servname provided, or not known)\"))\n",
      "$EXAS: possibly delisted; no timezone found\n",
      "$CRDO: possibly delisted; no price data found  (1m 2024-11-14 -> 2024-11-15)\n",
      "Failed to get ticker 'SOBO' reason: HTTPSConnectionPool(host='fc.yahoo.com', port=443): Max retries exceeded with url: / (Caused by NameResolutionError(\"<urllib3.connection.HTTPSConnection object at 0x165817110>: Failed to resolve 'fc.yahoo.com' ([Errno 8] nodename nor servname provided, or not known)\"))\n",
      "$SOBO: possibly delisted; no timezone found\n",
      "Failed to get ticker 'UFPI' reason: HTTPSConnectionPool(host='fc.yahoo.com', port=443): Max retries exceeded with url: / (Caused by NameResolutionError(\"<urllib3.connection.HTTPSConnection object at 0x165749210>: Failed to resolve 'fc.yahoo.com' ([Errno 8] nodename nor servname provided, or not known)\"))\n",
      "$UFPI: possibly delisted; no timezone found\n",
      "$BKE: possibly delisted; no price data found  (1m 2024-11-14 -> 2024-11-15)\n",
      "$SOUN: possibly delisted; no price data found  (1m 2024-11-14 -> 2024-11-15)\n",
      "$KNF: possibly delisted; no price data found  (1m 2024-11-14 -> 2024-11-15)\n",
      "Failed to get ticker 'OSCR' reason: HTTPSConnectionPool(host='fc.yahoo.com', port=443): Max retries exceeded with url: / (Caused by NameResolutionError(\"<urllib3.connection.HTTPSConnection object at 0x1656ea110>: Failed to resolve 'fc.yahoo.com' ([Errno 8] nodename nor servname provided, or not known)\"))\n",
      "$OSCR: possibly delisted; no timezone found\n",
      "$AMBA: possibly delisted; no price data found  (1m 2024-11-14 -> 2024-11-15)\n",
      "$MGNI: possibly delisted; no price data found  (1m 2024-11-14 -> 2024-11-15)\n",
      "$AEIS: possibly delisted; no price data found  (1m 2024-11-14 -> 2024-11-15)\n",
      "$RSI: possibly delisted; no price data found  (1m 2024-11-14 -> 2024-11-15)\n",
      "$GVA: possibly delisted; no price data found  (1m 2024-11-14 -> 2024-11-15)\n",
      "$NXE: possibly delisted; no price data found  (1m 2024-11-14 -> 2024-11-15)\n",
      "$KBH: possibly delisted; no price data found  (1m 2024-11-14 -> 2024-11-15)\n",
      "$TRUP: possibly delisted; no price data found  (1m 2024-11-14 -> 2024-11-15)\n",
      "$CRS: possibly delisted; no price data found  (1m 2024-11-14 -> 2024-11-15)\n",
      "$ROAD: possibly delisted; no price data found  (1m 2024-11-14 -> 2024-11-15)\n",
      "Failed to get ticker 'ENIC' reason: HTTPSConnectionPool(host='fc.yahoo.com', port=443): Max retries exceeded with url: / (Caused by NameResolutionError(\"<urllib3.connection.HTTPSConnection object at 0x165401f50>: Failed to resolve 'fc.yahoo.com' ([Errno 8] nodename nor servname provided, or not known)\"))\n",
      "$ENIC: possibly delisted; no timezone found\n",
      "$GEO: possibly delisted; no price data found  (1m 2024-11-14 -> 2024-11-15)\n",
      "$U: possibly delisted; no price data found  (1m 2024-11-14 -> 2024-11-15)\n",
      "Failed to get ticker 'PRKS' reason: HTTPSConnectionPool(host='fc.yahoo.com', port=443): Max retries exceeded with url: / (Caused by NameResolutionError(\"<urllib3.connection.HTTPSConnection object at 0x1656f3d10>: Failed to resolve 'fc.yahoo.com' ([Errno 8] nodename nor servname provided, or not known)\"))\n",
      "$PRKS: possibly delisted; no timezone found\n",
      "$MASI: possibly delisted; no price data found  (1m 2024-11-14 -> 2024-11-15)\n",
      "$SWTX: possibly delisted; no price data found  (1m 2024-11-14 -> 2024-11-15)\n",
      "$RDNT: possibly delisted; no price data found  (1m 2024-11-14 -> 2024-11-15)\n",
      "$NOV: possibly delisted; no price data found  (1m 2024-11-14 -> 2024-11-15)\n",
      "Failed to get ticker 'PI' reason: HTTPSConnectionPool(host='fc.yahoo.com', port=443): Max retries exceeded with url: / (Caused by NameResolutionError(\"<urllib3.connection.HTTPSConnection object at 0x165405410>: Failed to resolve 'fc.yahoo.com' ([Errno 8] nodename nor servname provided, or not known)\"))\n",
      "$PI: possibly delisted; no timezone found\n",
      "$PTON: possibly delisted; no price data found  (1m 2024-11-14 -> 2024-11-15)\n",
      "$LFST: possibly delisted; no price data found  (1m 2024-11-14 -> 2024-11-15)\n",
      "$CXW: possibly delisted; no price data found  (1m 2024-11-14 -> 2024-11-15)\n",
      "Failed to get ticker 'CXT' reason: HTTPSConnectionPool(host='fc.yahoo.com', port=443): Max retries exceeded with url: / (Caused by NameResolutionError(\"<urllib3.connection.HTTPSConnection object at 0x165825590>: Failed to resolve 'fc.yahoo.com' ([Errno 8] nodename nor servname provided, or not known)\"))\n",
      "$CXT: possibly delisted; no timezone found\n",
      "$NPWR: possibly delisted; no price data found  (1m 2024-11-14 -> 2024-11-15)\n",
      "$MAIN: possibly delisted; no price data found  (1m 2024-11-14 -> 2024-11-15)\n",
      "$BRBR: possibly delisted; no price data found  (1m 2024-11-14 -> 2024-11-15)\n",
      "$INTA: possibly delisted; no price data found  (1m 2024-11-14 -> 2024-11-15)\n",
      "$SHAK: possibly delisted; no price data found  (1m 2024-11-14 -> 2024-11-15)\n",
      "$CWAN: possibly delisted; no price data found  (1m 2024-11-14 -> 2024-11-15)\n",
      "Failed to get ticker 'CSWI' reason: HTTPSConnectionPool(host='fc.yahoo.com', port=443): Max retries exceeded with url: / (Caused by NameResolutionError(\"<urllib3.connection.HTTPSConnection object at 0x1656c64d0>: Failed to resolve 'fc.yahoo.com' ([Errno 8] nodename nor servname provided, or not known)\"))\n",
      "$CSWI: possibly delisted; no timezone found\n",
      "$SMTC: possibly delisted; no price data found  (1m 2024-11-14 -> 2024-11-15)\n",
      "$IESC: possibly delisted; no price data found  (1m 2024-11-14 -> 2024-11-15)\n",
      "Failed to get ticker 'CPA' reason: HTTPSConnectionPool(host='fc.yahoo.com', port=443): Max retries exceeded with url: / (Caused by NameResolutionError(\"<urllib3.connection.HTTPSConnection object at 0x1656c5450>: Failed to resolve 'fc.yahoo.com' ([Errno 8] nodename nor servname provided, or not known)\"))\n",
      "$CPA: possibly delisted; no timezone found\n",
      "$CNXC: possibly delisted; no price data found  (1m 2024-11-14 -> 2024-11-15)\n",
      "Failed to get ticker 'ADUS' reason: HTTPSConnectionPool(host='fc.yahoo.com', port=443): Max retries exceeded with url: / (Caused by NameResolutionError(\"<urllib3.connection.HTTPSConnection object at 0x1656cbcd0>: Failed to resolve 'fc.yahoo.com' ([Errno 8] nodename nor servname provided, or not known)\"))\n",
      "$ADUS: possibly delisted; no timezone found\n",
      "$OBDC: possibly delisted; no price data found  (1m 2024-11-14 -> 2024-11-15)\n",
      "$BROS: possibly delisted; no price data found  (1m 2024-11-14 -> 2024-11-15)\n",
      "Failed to get ticker 'ALK' reason: HTTPSConnectionPool(host='fc.yahoo.com', port=443): Max retries exceeded with url: / (Caused by NameResolutionError(\"<urllib3.connection.HTTPSConnection object at 0x1656c6750>: Failed to resolve 'fc.yahoo.com' ([Errno 8] nodename nor servname provided, or not known)\"))\n",
      "$ALK: possibly delisted; no timezone found\n",
      "$CZR: possibly delisted; no price data found  (1m 2024-11-14 -> 2024-11-15)\n",
      "$VRNA: possibly delisted; no price data found  (1m 2024-11-14 -> 2024-11-15)\n",
      "$FSK: possibly delisted; no price data found  (1m 2024-11-14 -> 2024-11-15)\n",
      "$WB: possibly delisted; no price data found  (1m 2024-11-14 -> 2024-11-15)\n",
      "$S: possibly delisted; no price data found  (1m 2024-11-14 -> 2024-11-15)\n",
      "$CRGY: possibly delisted; no price data found  (1m 2024-11-14 -> 2024-11-15)\n",
      "$CLF: possibly delisted; no price data found  (1m 2024-11-14 -> 2024-11-15)\n",
      "$PLNT: possibly delisted; no price data found  (1m 2024-11-14 -> 2024-11-15)\n",
      "Failed to get ticker 'STR' reason: HTTPSConnectionPool(host='fc.yahoo.com', port=443): Max retries exceeded with url: / (Caused by NameResolutionError(\"<urllib3.connection.HTTPSConnection object at 0x16571de50>: Failed to resolve 'fc.yahoo.com' ([Errno 8] nodename nor servname provided, or not known)\"))\n",
      "$STR: possibly delisted; no timezone found\n",
      "Failed to get ticker 'AVPT' reason: HTTPSConnectionPool(host='fc.yahoo.com', port=443): Max retries exceeded with url: / (Caused by NameResolutionError(\"<urllib3.connection.HTTPSConnection object at 0x165835710>: Failed to resolve 'fc.yahoo.com' ([Errno 8] nodename nor servname provided, or not known)\"))\n",
      "$AVPT: possibly delisted; no timezone found\n",
      "$BXSL: possibly delisted; no price data found  (1m 2024-11-14 -> 2024-11-15)\n",
      "Failed to get ticker 'RVLV' reason: HTTPSConnectionPool(host='fc.yahoo.com', port=443): Max retries exceeded with url: / (Caused by NameResolutionError(\"<urllib3.connection.HTTPSConnection object at 0x16582e3d0>: Failed to resolve 'fc.yahoo.com' ([Errno 8] nodename nor servname provided, or not known)\"))\n",
      "$RVLV: possibly delisted; no timezone found\n",
      "$GOGL: possibly delisted; no price data found  (1m 2024-11-14 -> 2024-11-15)\n",
      "$CALX: possibly delisted; no price data found  (1m 2024-11-14 -> 2024-11-15)\n",
      "$ITRI: possibly delisted; no price data found  (1m 2024-11-14 -> 2024-11-15)\n",
      "$SG: possibly delisted; no price data found  (1m 2024-11-14 -> 2024-11-15)\n",
      "$ADMA: possibly delisted; no price data found  (1m 2024-11-14 -> 2024-11-15)\n",
      "$VCTR: possibly delisted; no price data found  (1m 2024-11-14 -> 2024-11-15)\n",
      "$CFLT: possibly delisted; no price data found  (1m 2024-11-14 -> 2024-11-15)\n",
      "$AXSM: possibly delisted; no price data found  (1m 2024-11-14 -> 2024-11-15)\n",
      "$RLX: possibly delisted; no price data found  (1m 2024-11-14 -> 2024-11-15)\n"
     ]
    }
   ],
   "source": [
    "qbt_df = quick_backtest(smash_df, other_screen_date)"
   ]
  },
  {
   "cell_type": "code",
   "execution_count": null,
   "metadata": {},
   "outputs": [],
   "source": []
  },
  {
   "cell_type": "code",
   "execution_count": null,
   "metadata": {},
   "outputs": [],
   "source": [
    "# create a DataFrame from the stock data dictionary\n",
    "    stock_data_df = pd.DataFrame(stock_data).T.reset_index().rename(columns={'index': 'Symbol'})\n",
    "    \n",
    "    # merge the new stock data with the existing DataFrame\n",
    "    updated_df = pd.merge(df, stock_data_df, on='Symbol', how='left')\n",
    "    \n",
    "    return updated_df"
   ]
  },
  {
   "cell_type": "markdown",
   "metadata": {},
   "source": [
    "old code"
   ]
  },
  {
   "cell_type": "code",
   "execution_count": 36,
   "metadata": {},
   "outputs": [],
   "source": [
    "# add high low close\n",
    "#### ---- Quick Stary Backtesting ---- ####\n",
    "def basic_daily_technicals(df):\n",
    "    symbols = df['Symbol'].tolist()\n",
    "    stock_data = {}\n",
    "\n",
    "    for symbol in symbols:\n",
    "        stock_info = yf.Ticker(symbol)\n",
    "        today_data = stock_info.history(period='1d')\n",
    "        \n",
    "        if not today_data.empty:\n",
    "            stock_data[symbol] = {\n",
    "                'High': today_data['High'].values[0],\n",
    "                'Low': today_data['Low'].values[0],\n",
    "                'Open': today_data['Open'].values[0],\n",
    "                'Close': today_data['Close'].values[0],\n",
    "                'Volume': today_data['Volume'].values[0],\n",
    "                'Date': today_data.index[0]\n",
    "            }\n",
    "        else:\n",
    "            stock_data[symbol] = {\n",
    "                'High': None,\n",
    "                'Low': None,\n",
    "                'Open': None,\n",
    "                'Close': None,\n",
    "                'Volume': None,\n",
    "                'Date': None\n",
    "            }\n",
    "\n",
    "    # create a DataFrame from the stock data dictionary\n",
    "    stock_data_df = pd.DataFrame(stock_data).T.reset_index().rename(columns={'index': 'Symbol'})\n",
    "    \n",
    "    # merge the new stock data with the existing DataFrame\n",
    "    updated_df = pd.merge(df, stock_data_df, on='Symbol', how='left')\n",
    "    \n",
    "    return updated_df"
   ]
  },
  {
   "cell_type": "code",
   "execution_count": 37,
   "metadata": {},
   "outputs": [
    {
     "name": "stderr",
     "output_type": "stream",
     "text": [
      "$XCUR: possibly delisted; no price data found  (period=1d)\n",
      "$WIX: possibly delisted; no price data found  (period=1d)\n",
      "$GLBE: possibly delisted; no price data found  (period=1d)\n",
      "$ZIM: possibly delisted; no price data found  (period=1d)\n",
      "Failed to get ticker 'MSTR' reason: HTTPSConnectionPool(host='fc.yahoo.com', port=443): Max retries exceeded with url: / (Caused by NameResolutionError(\"<urllib3.connection.HTTPSConnection object at 0x1657cb1d0>: Failed to resolve 'fc.yahoo.com' ([Errno 8] nodename nor servname provided, or not known)\"))\n",
      "$MSTR: possibly delisted; no price data found  (period=1d)\n",
      "Failed to get ticker 'LMND' reason: HTTPSConnectionPool(host='fc.yahoo.com', port=443): Max retries exceeded with url: / (Caused by NameResolutionError(\"<urllib3.connection.HTTPSConnection object at 0x165682b90>: Failed to resolve 'fc.yahoo.com' ([Errno 8] nodename nor servname provided, or not known)\"))\n",
      "$LMND: possibly delisted; no price data found  (period=1d)\n",
      "$EE: possibly delisted; no price data found  (period=1d)\n",
      "$RUM: possibly delisted; no price data found  (period=1d)\n",
      "$CORZ: possibly delisted; no price data found  (period=1d)\n",
      "Failed to get ticker 'BPMC' reason: HTTPSConnectionPool(host='fc.yahoo.com', port=443): Max retries exceeded with url: / (Caused by NameResolutionError(\"<urllib3.connection.HTTPSConnection object at 0x16573b090>: Failed to resolve 'fc.yahoo.com' ([Errno 8] nodename nor servname provided, or not known)\"))\n",
      "$BPMC: possibly delisted; no price data found  (period=1d)\n",
      "$LNTH: possibly delisted; no price data found  (period=1d)\n",
      "Failed to get ticker 'ACHR' reason: HTTPSConnectionPool(host='fc.yahoo.com', port=443): Max retries exceeded with url: / (Caused by NameResolutionError(\"<urllib3.connection.HTTPSConnection object at 0x16568dfd0>: Failed to resolve 'fc.yahoo.com' ([Errno 8] nodename nor servname provided, or not known)\"))\n",
      "$ACHR: possibly delisted; no price data found  (period=1d)\n",
      "Failed to get ticker 'KT' reason: HTTPSConnectionPool(host='fc.yahoo.com', port=443): Max retries exceeded with url: / (Caused by NameResolutionError(\"<urllib3.connection.HTTPSConnection object at 0x165834b50>: Failed to resolve 'fc.yahoo.com' ([Errno 8] nodename nor servname provided, or not known)\"))\n",
      "$KT: possibly delisted; no price data found  (period=1d)\n",
      "$ERJ: possibly delisted; no price data found  (period=1d)\n",
      "$HAFN: possibly delisted; no price data found  (period=1d)\n",
      "$SKYW: possibly delisted; no price data found  (period=1d)\n",
      "$MTSI: possibly delisted; no price data found  (period=1d)\n",
      "Failed to get ticker 'EXAS' reason: HTTPSConnectionPool(host='fc.yahoo.com', port=443): Max retries exceeded with url: / (Caused by NameResolutionError(\"<urllib3.connection.HTTPSConnection object at 0x1656fdb90>: Failed to resolve 'fc.yahoo.com' ([Errno 8] nodename nor servname provided, or not known)\"))\n",
      "$EXAS: possibly delisted; no price data found  (period=1d)\n",
      "$CRDO: possibly delisted; no price data found  (period=1d)\n",
      "Failed to get ticker 'SOBO' reason: HTTPSConnectionPool(host='fc.yahoo.com', port=443): Max retries exceeded with url: / (Caused by NameResolutionError(\"<urllib3.connection.HTTPSConnection object at 0x165826910>: Failed to resolve 'fc.yahoo.com' ([Errno 8] nodename nor servname provided, or not known)\"))\n",
      "$SOBO: possibly delisted; no price data found  (period=1d)\n",
      "Failed to get ticker 'UFPI' reason: HTTPSConnectionPool(host='fc.yahoo.com', port=443): Max retries exceeded with url: / (Caused by NameResolutionError(\"<urllib3.connection.HTTPSConnection object at 0x16568d0d0>: Failed to resolve 'fc.yahoo.com' ([Errno 8] nodename nor servname provided, or not known)\"))\n",
      "$UFPI: possibly delisted; no price data found  (period=1d)\n",
      "$BKE: possibly delisted; no price data found  (period=1d)\n",
      "$SOUN: possibly delisted; no price data found  (period=1d)\n",
      "$KNF: possibly delisted; no price data found  (period=1d)\n",
      "Failed to get ticker 'OSCR' reason: HTTPSConnectionPool(host='fc.yahoo.com', port=443): Max retries exceeded with url: / (Caused by NameResolutionError(\"<urllib3.connection.HTTPSConnection object at 0x1657ea390>: Failed to resolve 'fc.yahoo.com' ([Errno 8] nodename nor servname provided, or not known)\"))\n",
      "$OSCR: possibly delisted; no price data found  (period=1d)\n",
      "$AMBA: possibly delisted; no price data found  (period=1d)\n",
      "$MGNI: possibly delisted; no price data found  (period=1d)\n",
      "$AEIS: possibly delisted; no price data found  (period=1d)\n",
      "$RSI: possibly delisted; no price data found  (period=1d)\n",
      "$GVA: possibly delisted; no price data found  (period=1d)\n",
      "$NXE: possibly delisted; no price data found  (period=1d)\n",
      "$KBH: possibly delisted; no price data found  (period=1d)\n",
      "$TRUP: possibly delisted; no price data found  (period=1d)\n",
      "$CRS: possibly delisted; no price data found  (period=1d)\n",
      "$ROAD: possibly delisted; no price data found  (period=1d)\n",
      "Failed to get ticker 'ENIC' reason: HTTPSConnectionPool(host='fc.yahoo.com', port=443): Max retries exceeded with url: / (Caused by NameResolutionError(\"<urllib3.connection.HTTPSConnection object at 0x165833950>: Failed to resolve 'fc.yahoo.com' ([Errno 8] nodename nor servname provided, or not known)\"))\n",
      "$ENIC: possibly delisted; no price data found  (period=1d)\n",
      "$GEO: possibly delisted; no price data found  (period=1d)\n",
      "$U: possibly delisted; no price data found  (period=1d)\n",
      "Failed to get ticker 'PRKS' reason: HTTPSConnectionPool(host='fc.yahoo.com', port=443): Max retries exceeded with url: / (Caused by NameResolutionError(\"<urllib3.connection.HTTPSConnection object at 0x165835e50>: Failed to resolve 'fc.yahoo.com' ([Errno 8] nodename nor servname provided, or not known)\"))\n",
      "$PRKS: possibly delisted; no price data found  (period=1d)\n",
      "$MASI: possibly delisted; no price data found  (period=1d)\n",
      "$SWTX: possibly delisted; no price data found  (period=1d)\n",
      "$RDNT: possibly delisted; no price data found  (period=1d)\n",
      "$NOV: possibly delisted; no price data found  (period=1d)\n",
      "Failed to get ticker 'PI' reason: HTTPSConnectionPool(host='fc.yahoo.com', port=443): Max retries exceeded with url: / (Caused by NameResolutionError(\"<urllib3.connection.HTTPSConnection object at 0x1658242d0>: Failed to resolve 'fc.yahoo.com' ([Errno 8] nodename nor servname provided, or not known)\"))\n",
      "$PI: possibly delisted; no price data found  (period=1d)\n",
      "$PTON: possibly delisted; no price data found  (period=1d)\n",
      "$LFST: possibly delisted; no price data found  (period=1d)\n",
      "$CXW: possibly delisted; no price data found  (period=1d)\n",
      "Failed to get ticker 'CXT' reason: HTTPSConnectionPool(host='fc.yahoo.com', port=443): Max retries exceeded with url: / (Caused by NameResolutionError(\"<urllib3.connection.HTTPSConnection object at 0x165830f10>: Failed to resolve 'fc.yahoo.com' ([Errno 8] nodename nor servname provided, or not known)\"))\n",
      "$CXT: possibly delisted; no price data found  (period=1d)\n",
      "$NPWR: possibly delisted; no price data found  (period=1d)\n",
      "$MAIN: possibly delisted; no price data found  (period=1d)\n",
      "$BRBR: possibly delisted; no price data found  (period=1d)\n",
      "$INTA: possibly delisted; no price data found  (period=1d)\n",
      "$SHAK: possibly delisted; no price data found  (period=1d)\n",
      "$CWAN: possibly delisted; no price data found  (period=1d)\n",
      "Failed to get ticker 'CSWI' reason: HTTPSConnectionPool(host='fc.yahoo.com', port=443): Max retries exceeded with url: / (Caused by NameResolutionError(\"<urllib3.connection.HTTPSConnection object at 0x165777110>: Failed to resolve 'fc.yahoo.com' ([Errno 8] nodename nor servname provided, or not known)\"))\n",
      "$CSWI: possibly delisted; no price data found  (period=1d)\n",
      "$SMTC: possibly delisted; no price data found  (period=1d)\n",
      "$IESC: possibly delisted; no price data found  (period=1d)\n",
      "Failed to get ticker 'CPA' reason: HTTPSConnectionPool(host='fc.yahoo.com', port=443): Max retries exceeded with url: / (Caused by NameResolutionError(\"<urllib3.connection.HTTPSConnection object at 0x165833f90>: Failed to resolve 'fc.yahoo.com' ([Errno 8] nodename nor servname provided, or not known)\"))\n",
      "$CPA: possibly delisted; no price data found  (period=1d)\n",
      "$CNXC: possibly delisted; no price data found  (period=1d)\n",
      "Failed to get ticker 'ADUS' reason: HTTPSConnectionPool(host='fc.yahoo.com', port=443): Max retries exceeded with url: / (Caused by NameResolutionError(\"<urllib3.connection.HTTPSConnection object at 0x1656c4790>: Failed to resolve 'fc.yahoo.com' ([Errno 8] nodename nor servname provided, or not known)\"))\n",
      "$ADUS: possibly delisted; no price data found  (period=1d)\n",
      "$OBDC: possibly delisted; no price data found  (period=1d)\n",
      "$BROS: possibly delisted; no price data found  (period=1d)\n",
      "Failed to get ticker 'ALK' reason: HTTPSConnectionPool(host='fc.yahoo.com', port=443): Max retries exceeded with url: / (Caused by NameResolutionError(\"<urllib3.connection.HTTPSConnection object at 0x1657ebc90>: Failed to resolve 'fc.yahoo.com' ([Errno 8] nodename nor servname provided, or not known)\"))\n",
      "$ALK: possibly delisted; no price data found  (period=1d)\n",
      "$CZR: possibly delisted; no price data found  (period=1d)\n",
      "$VRNA: possibly delisted; no price data found  (period=1d)\n",
      "$FSK: possibly delisted; no price data found  (period=1d)\n",
      "$WB: possibly delisted; no price data found  (period=1d)\n",
      "$S: possibly delisted; no price data found  (period=1d)\n",
      "$CRGY: possibly delisted; no price data found  (period=1d)\n",
      "$CLF: possibly delisted; no price data found  (period=1d)\n",
      "$PLNT: possibly delisted; no price data found  (period=1d)\n",
      "Failed to get ticker 'STR' reason: HTTPSConnectionPool(host='fc.yahoo.com', port=443): Max retries exceeded with url: / (Caused by NameResolutionError(\"<urllib3.connection.HTTPSConnection object at 0x165832dd0>: Failed to resolve 'fc.yahoo.com' ([Errno 8] nodename nor servname provided, or not known)\"))\n",
      "$STR: possibly delisted; no price data found  (period=1d)\n",
      "Failed to get ticker 'AVPT' reason: HTTPSConnectionPool(host='fc.yahoo.com', port=443): Max retries exceeded with url: / (Caused by NameResolutionError(\"<urllib3.connection.HTTPSConnection object at 0x1656c5c90>: Failed to resolve 'fc.yahoo.com' ([Errno 8] nodename nor servname provided, or not known)\"))\n",
      "$AVPT: possibly delisted; no price data found  (period=1d)\n",
      "$BXSL: possibly delisted; no price data found  (period=1d)\n",
      "Failed to get ticker 'RVLV' reason: HTTPSConnectionPool(host='fc.yahoo.com', port=443): Max retries exceeded with url: / (Caused by NameResolutionError(\"<urllib3.connection.HTTPSConnection object at 0x1656cd010>: Failed to resolve 'fc.yahoo.com' ([Errno 8] nodename nor servname provided, or not known)\"))\n",
      "$RVLV: possibly delisted; no price data found  (period=1d)\n",
      "$GOGL: possibly delisted; no price data found  (period=1d)\n",
      "$CALX: possibly delisted; no price data found  (period=1d)\n",
      "$ITRI: possibly delisted; no price data found  (period=1d)\n",
      "$SG: possibly delisted; no price data found  (period=1d)\n",
      "$ADMA: possibly delisted; no price data found  (period=1d)\n",
      "$VCTR: possibly delisted; no price data found  (period=1d)\n",
      "$CFLT: possibly delisted; no price data found  (period=1d)\n",
      "$AXSM: possibly delisted; no price data found  (period=1d)\n",
      "$RLX: possibly delisted; no price data found  (period=1d)\n"
     ]
    }
   ],
   "source": [
    "smash_two_df =  basic_daily_technicals(smash_df)"
   ]
  },
  {
   "cell_type": "markdown",
   "metadata": {},
   "source": [
    "| LEVEL #2 - SCREENER |\n",
    "|-|\n",
    "| TECHNICAL INDICATORS - via yahoo finance |\n",
    "\n",
    "*note yahoo finance data source transition\n",
    "*feels like this is more of a swing screen????"
   ]
  },
  {
   "cell_type": "code",
   "execution_count": 517,
   "metadata": {},
   "outputs": [],
   "source": [
    "# import yfinance as yf\n",
    "\n",
    "# from ta.trend import MACD\n",
    "# from ta.momentum import RSIIndicator\n",
    "# from ta.trend import SMAIndicator\n",
    "# from ta.momentum import RSIIndicator, StochasticOscillator\n",
    "# from ta.trend import SMAIndicator, MACD, PSARIndicator\n",
    "# from ta.volatility import BollingerBands, AverageTrueRange\n",
    "# from ta.volume import OnBalanceVolumeIndicator\n",
    "# # import vectorbt as vbt\n",
    "# # vbt.settings.set_theme('dark')\n"
   ]
  },
  {
   "cell_type": "code",
   "execution_count": 518,
   "metadata": {},
   "outputs": [],
   "source": [
    "# import yfinance as yf\n",
    "# import pandas as pd\n",
    "# from ta.momentum import RSIIndicator\n",
    "# from ta.trend import SMAIndicator, MACD"
   ]
  },
  {
   "cell_type": "markdown",
   "metadata": {},
   "source": [
    "need to add start date as a var for retroactive testing / backtesting"
   ]
  },
  {
   "cell_type": "code",
   "execution_count": 519,
   "metadata": {},
   "outputs": [],
   "source": [
    "# def compute_technical_indicators(df):\n",
    "#     tech_data = []\n",
    "\n",
    "#     for symbol in df['Symbol'].unique():\n",
    "#         data = yf.download(symbol, period=\"6mo\", interval=\"1d\")\n",
    "\n",
    "#         if not data.empty:\n",
    "#             close_prices = data['Close'].squeeze()  # Ensure it's a 1-dimensional series\n",
    "#             rsi = RSIIndicator(close_prices, window=14).rsi().iloc[-1] # last value!\n",
    "#             ma20 = SMAIndicator(close_prices, window=20).sma_indicator().iloc[-1] # last value!\n",
    "#             ma50 = SMAIndicator(close_prices, window=50).sma_indicator().iloc[-1] # last value!\n",
    "#             macd = MACD(close_prices).macd_diff().iloc[-1] # last value!\n",
    "\n",
    "#             tech_data.append({\n",
    "#                 'Symbol': symbol,\n",
    "#                 'RSI': rsi,\n",
    "#                 'MA20': ma20,\n",
    "#                 'MA50': ma50,\n",
    "#                 'MACD': macd,\n",
    "#                 'Yahoo Price': close_prices.iloc[-1], # last value! (price from Yahoo!)\n",
    "#             })\n",
    "\n",
    "#     tech_df = pd.DataFrame(tech_data)\n",
    "#     return tech_df"
   ]
  },
  {
   "cell_type": "markdown",
   "metadata": {},
   "source": [
    "note the last value because,\n",
    "technically for back testing you want to pay attention here.\n",
    "real time go time i think we want it most recent. meaning yesterday\n",
    "if we are making decisions and in pre-market trading hours based on the Close from yesterday\n",
    "yesterday = last Close $"
   ]
  },
  {
   "cell_type": "code",
   "execution_count": 520,
   "metadata": {},
   "outputs": [],
   "source": [
    "# explode_df = compute_technical_indicators(smash_df)\n",
    "\n",
    "# print(explode_df.shape)\n",
    "# print(explode_df.head())"
   ]
  },
  {
   "cell_type": "code",
   "execution_count": 521,
   "metadata": {},
   "outputs": [],
   "source": [
    "# print(explode_df.shape)\n",
    "# print(explode_df.head())\n",
    "\n",
    "# print(smash_df.shape)\n",
    "# print(smash_df.iloc[:5,:3])"
   ]
  },
  {
   "cell_type": "code",
   "execution_count": null,
   "metadata": {},
   "outputs": [],
   "source": [
    "# def screen_stocks_by_technical_indicators(df):\n",
    "#     # filter based on RSI, MA, and MACD\n",
    "#     df = df[(df['RSI'] >= 0) & (df['RSI'] < 70)]  # RSI filter condition\n",
    "#     df = df[df['Yahoo Price'] > df['MA20']]\n",
    "#     df = df[df['Yahoo Price'] > df['MA50']]\n",
    "#     df = df[df['MACD'] > 0]\n",
    "#     \"\"\" \n",
    "#     # should i add more to this?\n",
    "#     # level 3 will start to get more advanced filering\n",
    "#     # dont want to overfilter to soon also and miss something\n",
    "#     # patience\n",
    "#     \"\"\"\n",
    "#     return df"
   ]
  },
  {
   "cell_type": "code",
   "execution_count": 523,
   "metadata": {},
   "outputs": [],
   "source": [
    "# explode_df = screen_stocks_by_technical_indicators(explode_df)\n",
    "\n",
    "# print(len(explode_df))\n",
    "# print(explode_df.head())"
   ]
  },
  {
   "cell_type": "code",
   "execution_count": 524,
   "metadata": {},
   "outputs": [],
   "source": [
    "# # return explode_list of Symbols\n",
    "# explode_list = explode_df['Symbol'].tolist()\n",
    "\n",
    "\n",
    "# print(len(smash_df))\n",
    "# print()\n",
    "\n",
    "# print(len(explode_df))\n",
    "# print(len(explode_list))\n",
    "# print(explode_list)"
   ]
  },
  {
   "cell_type": "code",
   "execution_count": 525,
   "metadata": {},
   "outputs": [],
   "source": [
    "# print(explode_df)"
   ]
  },
  {
   "cell_type": "code",
   "execution_count": 526,
   "metadata": {},
   "outputs": [],
   "source": [
    "# print(screen_date)"
   ]
  },
  {
   "cell_type": "code",
   "execution_count": 527,
   "metadata": {},
   "outputs": [],
   "source": [
    "# # sory descending by RSI\n",
    "# explode_df = explode_df.sort_values(by='RSI', ascending=True)\n",
    "\n",
    "# print(explode_df)"
   ]
  },
  {
   "cell_type": "markdown",
   "metadata": {},
   "source": [
    "| LEVEL #3 - SCREENER |\n",
    "|-|\n",
    "| xxx |\n",
    "\n",
    "i think this is the place for those small tactical screeners\n",
    "maybe even think about deploying dynamically for instance one above this ta technical screener filter\n",
    "different days, different vols, and volatilty\n",
    "\n",
    "see index specific\n",
    "see vix\n",
    "companies in same industry, same sector, same location? "
   ]
  },
  {
   "cell_type": "code",
   "execution_count": null,
   "metadata": {},
   "outputs": [],
   "source": []
  },
  {
   "cell_type": "markdown",
   "metadata": {},
   "source": [
    "| LEVEL #4 - SCREENER |\n",
    "|-|\n",
    "| xxx |\n",
    "\n",
    "could think about doing additional available (but separate now) on the subset, additional technical indicators from ta library"
   ]
  },
  {
   "cell_type": "code",
   "execution_count": 528,
   "metadata": {},
   "outputs": [],
   "source": [
    "# from ta.momentum import RSIIndicator, StochasticOscillator\n",
    "# from ta.trend import SMAIndicator, MACD, CCIIndicator\n",
    "# from ta.volatility import BollingerBands\n",
    "# from ta.volume import OnBalanceVolumeIndicator\n",
    "# from ta.volatility import AverageTrueRange"
   ]
  },
  {
   "cell_type": "code",
   "execution_count": 529,
   "metadata": {},
   "outputs": [],
   "source": [
    "# def compute_additional_indicators(df):\n",
    "#     additional_data = []\n",
    "\n",
    "#     for symbol in df['Symbol'].unique():\n",
    "#         data = yf.download(symbol, period=\"6mo\", interval=\"1d\")\n",
    "\n",
    "#         if not data.empty:\n",
    "#             close_prices = data['Close'].squeeze()  # Ensure it's a 1-dimensional series\n",
    "#             high_prices = data['High'].squeeze()\n",
    "#             low_prices = data['Low'].squeeze()\n",
    "#             volume = data['Volume'].squeeze()\n",
    "\n",
    "#             # Compute additional indicators\n",
    "#             bb = BollingerBands(close_prices)\n",
    "#             atr = AverageTrueRange(high=high_prices, low=low_prices, close=close_prices)\n",
    "#             stoch = StochasticOscillator(close=close_prices, high=high_prices, low=low_prices)\n",
    "#             obv = OnBalanceVolumeIndicator(close=close_prices, volume=volume)\n",
    "#             cci = CCIIndicator(high=high_prices, low=low_prices, close=close_prices)\n",
    "\n",
    "#             additional_data.append({\n",
    "#                 'Symbol': symbol,\n",
    "#                 'Bollinger High': bb.bollinger_hband().iloc[-1],\n",
    "#                 'Bollinger Low': bb.bollinger_lband().iloc[-1],\n",
    "#                 'ATR': atr.average_true_range().iloc[-1],\n",
    "#                 'Stochastic Oscillator': stoch.stoch().iloc[-1],\n",
    "#                 'OBV': obv.on_balance_volume().iloc[-1],\n",
    "#                 'CCI': cci.cci().iloc[-1],\n",
    "#             })\n",
    "\n",
    "#     additional_df = pd.DataFrame(additional_data)\n",
    "#     return additional_df"
   ]
  },
  {
   "cell_type": "code",
   "execution_count": 530,
   "metadata": {},
   "outputs": [],
   "source": [
    "# double_explode_df = compute_additional_indicators(explode_df)\n",
    "\n",
    "# print(len(explode_df))\n",
    "# print(len(double_explode_df))"
   ]
  },
  {
   "cell_type": "code",
   "execution_count": 531,
   "metadata": {},
   "outputs": [],
   "source": [
    "# double_explode_df"
   ]
  },
  {
   "cell_type": "code",
   "execution_count": 532,
   "metadata": {},
   "outputs": [],
   "source": [
    "# def filter_additional_indicators(df):\n",
    "#     # Example filter criteria\n",
    "#     filtered_df = df[\n",
    "#         (df['Stochastic Oscillator'] < 20) &  # Stochastic Oscillator indicates oversold\n",
    "#         (df['CCI'] < -100) &  # CCI indicates oversold\n",
    "#         (df['ATR'] > 1)  # ATR indicates high volatility\n",
    "#     ]\n",
    "#     return filtered_df"
   ]
  },
  {
   "cell_type": "code",
   "execution_count": 533,
   "metadata": {},
   "outputs": [],
   "source": [
    "# filtered_double_explode_df = filter_additional_indicators(double_explode_df)\n",
    "\n",
    "\n",
    "# print(len(explode_df))\n",
    "# print(len(filtered_double_explode_df))"
   ]
  },
  {
   "cell_type": "markdown",
   "metadata": {},
   "source": [
    "| LEVEL #5,#6 - SCREENER |\n",
    "|-|\n",
    "| (mini) tight screeners - (toggle on and off w/comments?) |"
   ]
  },
  {
   "cell_type": "markdown",
   "metadata": {},
   "source": [
    "return index data for relevant?\n",
    "good time to see if that chart works opensource similar to tradingview"
   ]
  },
  {
   "cell_type": "markdown",
   "metadata": {},
   "source": [
    "could also plot historical data for 53 stocks who cares. check it out on same chart?\n",
    "watch a youtube\n",
    "restart as new feature "
   ]
  },
  {
   "cell_type": "markdown",
   "metadata": {},
   "source": [
    "what about news\n",
    "what about europe /asia price action\n",
    "market and industry?"
   ]
  },
  {
   "cell_type": "code",
   "execution_count": null,
   "metadata": {},
   "outputs": [],
   "source": []
  },
  {
   "cell_type": "code",
   "execution_count": null,
   "metadata": {},
   "outputs": [],
   "source": []
  },
  {
   "cell_type": "code",
   "execution_count": null,
   "metadata": {},
   "outputs": [],
   "source": []
  },
  {
   "cell_type": "code",
   "execution_count": null,
   "metadata": {},
   "outputs": [],
   "source": []
  },
  {
   "cell_type": "code",
   "execution_count": null,
   "metadata": {},
   "outputs": [],
   "source": []
  },
  {
   "cell_type": "code",
   "execution_count": null,
   "metadata": {},
   "outputs": [],
   "source": []
  },
  {
   "cell_type": "code",
   "execution_count": null,
   "metadata": {},
   "outputs": [],
   "source": []
  },
  {
   "cell_type": "markdown",
   "metadata": {},
   "source": [
    "| Notes |\n",
    "|-|\n",
    "| END of WORKING CODE |"
   ]
  },
  {
   "cell_type": "code",
   "execution_count": 534,
   "metadata": {},
   "outputs": [],
   "source": [
    "# # read data file from TradingView to pandas df\n",
    "# \"\"\" \n",
    "# Market : US\n",
    "# Exchange : NASDAQ, NYSE\n",
    "# Pre-market Chg > $0.00 USD\n",
    "\n",
    "# Stocks = ~1100\n",
    "# \"\"\"\n",
    "# base_file_path = '/Users/sudz4/Desktop/SPS_local/sps/x_pre_market_gap_up_screener/'\n",
    "# file_name =  'tv_screen_gap-up_2024-10-29.csv'\n",
    "# pmgus_df = pd.read_csv(base_file_path + file_name)\n",
    "\n",
    "\n",
    "# print(len(pmgus_df))\n",
    "# pmgus_df.tail(2)"
   ]
  },
  {
   "cell_type": "code",
   "execution_count": 535,
   "metadata": {},
   "outputs": [],
   "source": [
    "# def categorize_market_cap(df):\n",
    "#     \"\"\"Categorize stocks based on market capitalization.\"\"\"\n",
    "#     df['Market capitalization'] = pd.to_numeric(df['Market capitalization'], errors='coerce')\n",
    "#     conditions = [\n",
    "#         (df['Market capitalization'] >= 200_000_000_000),  # Titans\n",
    "#         (df['Market capitalization'] >= 10_000_000_000) & (df['Market capitalization'] < 200_000_000_000),  # Large caps\n",
    "#         (df['Market capitalization'] >= 2_000_000_000) & (df['Market capitalization'] < 10_000_000_000),  # Mid caps\n",
    "#         (df['Market capitalization'] >= 300_000_000) & (df['Market capitalization'] < 2_000_000_000),  # Small caps\n",
    "#         (df['Market capitalization'] > 50_000_000) & (df['Market capitalization'] < 300_000_000),  # Micro caps\n",
    "#         (df['Market capitalization'] <= 50_000_000)  # Shrimp\n",
    "#     ]\n",
    "#     categories = ['Titans', 'Large caps', 'Mid caps', 'Small caps', 'Micro caps', 'Shrimp']\n",
    "#     df['marketCapType'] = np.select(conditions, categories, default='Undefined')\n",
    "#     # drop Undefined\n",
    "#     df = df[df['marketCapType'] != 'Undefined']\n",
    "#     # convert to numeric the Market capitalization column\n",
    "#     df['Market capitalization'] = pd.to_numeric(df['Market capitalization'])\n",
    "    \n",
    "#     return df"
   ]
  },
  {
   "cell_type": "code",
   "execution_count": 536,
   "metadata": {},
   "outputs": [],
   "source": [
    "# # APPLY - categorize market cap\n",
    "# pmgus_df = categorize_market_cap(pmgus_df).copy()\n",
    "# print(len(pmgus_df))\n"
   ]
  },
  {
   "cell_type": "code",
   "execution_count": 537,
   "metadata": {},
   "outputs": [],
   "source": [
    "# # convert necessary columns to numeric\n",
    "# def convert_columns_to_numeric(df, columns):\n",
    "#     \"\"\"Convert specified columns to numeric types.\"\"\"\n",
    "#     for col in columns:\n",
    "#         df[col] = pd.to_numeric(df[col], errors='coerce')\n",
    "#     return df\n",
    "\n",
    "# # list of columns to convert\n",
    "# numeric_columns = [\n",
    "#     'Market capitalization', 'Float shares outstanding', 'Relative Volume 1 day',\n",
    "#     'Relative Volume at Time', 'Pre-market Change %', 'Pre-market Gap %',\n",
    "#     'Price', 'Volume Weighted Average Price 1 day', 'Volatility 1 day',\n",
    "#     'Volatility 1 week', 'Volatility 1 month', 'Pre-market Volume'\n",
    "# ]"
   ]
  },
  {
   "cell_type": "code",
   "execution_count": 538,
   "metadata": {},
   "outputs": [],
   "source": [
    "# # APPLY - convert columns to numeric\n",
    "# pmgus_df = convert_columns_to_numeric(pmgus_df, numeric_columns).copy()\n",
    "# print(len(pmgus_df))"
   ]
  },
  {
   "cell_type": "code",
   "execution_count": 539,
   "metadata": {},
   "outputs": [],
   "source": [
    "# # Criteria configuration for each market cap category\n",
    "# criteria_config = {\n",
    "#     \"Titans\": {\n",
    "#         \"pre_market_change_pct_threshold\": 0.002,  # 0.2% for Titans\n",
    "#         \"float_shares_outstanding_threshold\": 1_000_000_000,  # 1 billion shares\n",
    "#         \"relative_volume_threshold\": 1.2,\n",
    "#         \"relative_volume_at_time_threshold\": 0.03,\n",
    "#         \"pre_market_gap_percentage_threshold\": 0.001,  # 0.1%\n",
    "#         \"pre_market_vwap_drawdown_threshold\": 0.003,  # 0.3% drawdown from VWAP\n",
    "#         \"pre_market_volume_threshold\": 50_000  # Minimum pre-market volume\n",
    "#     },\n",
    "#     \"Large caps\": {\n",
    "#         \"pre_market_change_pct_threshold\": 0.005,  # 0.5% for Large caps\n",
    "#         \"float_shares_outstanding_threshold\": 200000000,  # 200 million shares\n",
    "#         \"relative_volume_threshold\": 1.3,  # More inclusive\n",
    "#         \"relative_volume_at_time_threshold\": 0.04,  # More inclusive\n",
    "#         \"pre_market_gap_percentage_threshold\": 0.005,  # 0.5%\n",
    "#         \"pre_market_vwap_drawdown_threshold\": 0.004,  # 0.4% drawdown from VWAP\n",
    "#         \"pre_market_volume_threshold\": 50000  # Minimum pre-market volume\n",
    "#     },\n",
    "#     # \"Midlers\" in TradingView\n",
    "#     \"Midlers\": { \n",
    "#         \"pre_market_change_pct_threshold\": 0.02,  # 2% for Midlers \n",
    "#         \"float_shares_outstanding_threshold\": 50000000,  # 50 million shares\n",
    "#         \"relative_volume_threshold\": 1.3,\n",
    "#         \"relative_volume_at_time_threshold\": 0.05,\n",
    "#         \"pre_market_gap_percentage_threshold\": 0.02,\n",
    "#         \"pre_market_vwap_drawdown_threshold\": 0.005,  # 0.5% drawdown from VWAP\n",
    "#         \"pre_market_volume_threshold\": 50000  # Minimum pre-market volume\n",
    "#     },\n",
    "#     \"Small caps\": {\n",
    "#         \"pre_market_change_pct_threshold\": 0.03,  # 3% for Small caps\n",
    "#         \"float_shares_outstanding_threshold\": 20000000,  # 20 million shares\n",
    "#         \"relative_volume_threshold\": 1.2,\n",
    "#         \"relative_volume_at_time_threshold\": 0.05,\n",
    "#         \"pre_market_gap_percentage_threshold\": 0.03,\n",
    "#         \"pre_market_vwap_drawdown_threshold\": 0.006,  # 0.6% drawdown from VWAP\n",
    "#         \"pre_market_volume_threshold\": 50000  # Minimum pre-market volume\n",
    "#     },\n",
    "#     \"Micro caps\": {\n",
    "#         \"pre_market_change_pct_threshold\": 0.04,  # 4% for Micro caps\n",
    "#         \"float_shares_outstanding_threshold\": 5000000,  # 5 million shares\n",
    "#         \"relative_volume_threshold\": 1.1,\n",
    "#         \"relative_volume_at_time_threshold\": 0.05,\n",
    "#         \"pre_market_gap_percentage_threshold\": 0.04,\n",
    "#         \"pre_market_vwap_drawdown_threshold\": 0.007,  # 0.7% drawdown from VWAP\n",
    "#         \"pre_market_volume_threshold\": 50000  # Minimum pre-market volume\n",
    "#     },\n",
    "#     \"Shrimp\": {\n",
    "#         \"pre_market_change_pct_threshold\": 0.05,  # 5% for Shrimp\n",
    "#         \"float_shares_outstanding_threshold\": 1000000,  # 1 million shares\n",
    "#         \"relative_volume_threshold\": 1.0,\n",
    "#         \"relative_volume_at_time_threshold\": 0.05,\n",
    "#         \"pre_market_gap_percentage_threshold\": 0.05,\n",
    "#         \"pre_market_vwap_drawdown_threshold\": 0.008, # 0.8% drawdown from VWAP\n",
    "#         \"pre_market_volume_threshold\": 50000  # Minimum pre-market volume\n",
    "#     }\n",
    "# }"
   ]
  },
  {
   "cell_type": "code",
   "execution_count": 540,
   "metadata": {},
   "outputs": [],
   "source": [
    "# def filter_stocks(df, config):\n",
    "#     \"\"\"Filter stocks based on configuration criteria.\"\"\"\n",
    "#     conditions = (\n",
    "#         (df['Pre-market Change %'] >= config.get('pre_market_change_pct_threshold', 0)) &\n",
    "#         (df['Float shares outstanding'] <= config.get('float_shares_outstanding_threshold', float('inf'))) &\n",
    "#         (df['Relative Volume 1 day'] >= config.get('relative_volume_threshold', 0)) &\n",
    "#         (df['Relative Volume at Time'] >= config.get('relative_volume_at_time_threshold', 0)) &\n",
    "#         (df['Pre-market Gap %'] >= config.get('pre_market_gap_percentage_threshold', 0)) &\n",
    "#         (df['Price'] >= df['Volume Weighted Average Price 1 day'] * (1 - config.get('pre_market_vwap_drawdown_threshold', 0))) &\n",
    "#         (df['Volatility 1 day'] >= df['Volatility 1 week']) &\n",
    "#         (df['Volatility 1 day'] >= df['Volatility 1 month']) &\n",
    "#         (df['Pre-market Volume'] >= config.get('pre_market_volume_threshold', 0))\n",
    "#     )\n",
    "#     return df[conditions]\n",
    "\n",
    "# def screen_stocks_by_category(df, category):\n",
    "#     \"\"\"Filter stocks in a category using predefined criteria.\"\"\"\n",
    "#     config = criteria_config.get(category, {})\n",
    "#     filtered_df = filter_stocks(df, config)\n",
    "#     return filtered_df\n"
   ]
  },
  {
   "cell_type": "code",
   "execution_count": 541,
   "metadata": {},
   "outputs": [],
   "source": [
    "# for category in pmgus_df['marketCapType'].unique():\n",
    "#     category_df = pmgus_df[pmgus_df['marketCapType'] == category]\n",
    "#     gap_up_stage_df = screen_stocks_by_category(category_df, category)\n",
    "#     pmgus_two_df = pd.concat([category_df, gap_up_stage_df], ignore_index=True)\n",
    "\n",
    "# print(len(pmgus_two_df))\n"
   ]
  },
  {
   "cell_type": "markdown",
   "metadata": {},
   "source": [
    "enhanced volume screening -L2"
   ]
  },
  {
   "cell_type": "code",
   "execution_count": 542,
   "metadata": {},
   "outputs": [],
   "source": [
    "# market_cap_volume_thresholds = {\n",
    "#     \"Titans\": {\n",
    "#         \"min_pm_volume_vs_adv\": 0.001,  # 0.1% of ADV minimum in pre-market\n",
    "#         \"min_rel_vol_5min\": 1.5,        # 50% above normal 5-min volume\n",
    "#         \"min_rel_vol_15min\": 1.3        # 30% above normal 15-min volume\n",
    "#     },\n",
    "#     \"Large caps\": {\n",
    "#         \"min_pm_volume_vs_adv\": 0.002,  # 0.2% of ADV\n",
    "#         \"min_rel_vol_5min\": 1.8,\n",
    "#         \"min_rel_vol_15min\": 1.5\n",
    "#     },\n",
    "#     \"Midlers\": {\n",
    "#         \"min_pm_volume_vs_adv\": 0.003,  # 0.3% of ADV\n",
    "#         \"min_rel_vol_5min\": 2.0,\n",
    "#         \"min_rel_vol_15min\": 1.7\n",
    "#     },\n",
    "#     \"Small caps\": {\n",
    "#         \"min_pm_volume_vs_adv\": 0.004,  # 0.4% of ADV\n",
    "#         \"min_rel_vol_5min\": 2.5,\n",
    "#         \"min_rel_vol_15min\": 2.0\n",
    "#     },\n",
    "#     \"Micro caps\": {\n",
    "#         \"min_pm_volume_vs_adv\": 0.005,  # 0.5% of ADV\n",
    "#         \"min_rel_vol_5min\": 3.0,\n",
    "#         \"min_rel_vol_15min\": 2.5\n",
    "#     },\n",
    "#     \"Shrimp\": {\n",
    "#         \"min_pm_volume_vs_adv\": 0.008,  # 0.8% of ADV\n",
    "#         \"min_rel_vol_5min\": 3.5,\n",
    "#         \"min_rel_vol_15min\": 3.0\n",
    "#     }\n",
    "# }\n",
    "\n",
    "# def analyze_premarket_volume_by_cap(df, conditions):\n",
    "#     \"\"\"\n",
    "#     Enhanced volume analysis based on market cap category with progressive thresholds\n",
    "#     \"\"\"\n",
    "#     df['PM_Volume_Ratio'] = df['Pre-market Volume'] / df['Average Volume 10 days']\n",
    "#     df['Volume_Acceleration'] = df['Relative Volume 5 minutes'] / df['Relative Volume 15 minutes']\n",
    "    \n",
    "#     # Apply filters based on market cap category\n",
    "#     conditions = []\n",
    "#     for cap_type, thresholds in market_cap_volume_thresholds.items():\n",
    "#         cap_condition = (\n",
    "#             (df['marketCapType'] == cap_type) &\n",
    "#             (df['PM_Volume_Ratio'] >= thresholds['min_pm_volume_vs_adv']) &\n",
    "#             (df['Relative Volume 5 minutes'] >= thresholds['min_rel_vol_5min']) &\n",
    "#             (df['Relative Volume 15 minutes'] >= thresholds['min_rel_vol_15min'])\n",
    "#         )\n",
    "#         conditions.append(cap_condition)\n",
    "    \n",
    "#     return pd.concat([df[cond] for cond in conditions])"
   ]
  },
  {
   "cell_type": "code",
   "execution_count": 543,
   "metadata": {},
   "outputs": [],
   "source": [
    "# # show all pandas row width\n",
    "# pd.set_option('display.max_rows', None)\n",
    "# # show all pandas column width\n",
    "# pd.set_option('display.max_columns', None)"
   ]
  },
  {
   "cell_type": "code",
   "execution_count": 544,
   "metadata": {},
   "outputs": [],
   "source": [
    "# pmgus_two_df = analyze_premarket_volume_by_cap(pmgus_two_df, market_cap_volume_thresholds)\n",
    "\n",
    "\n",
    "# print(len(pmgus_two_df))\n",
    "# display(pmgus_two_df.head(5))"
   ]
  },
  {
   "cell_type": "code",
   "execution_count": 545,
   "metadata": {},
   "outputs": [],
   "source": [
    "# # save to csv\n",
    "# new_pmgus_df.to_csv(base_file_path + 'new_pmgus_2024-10-29_final.csv', index=False)"
   ]
  },
  {
   "cell_type": "code",
   "execution_count": 546,
   "metadata": {},
   "outputs": [],
   "source": [
    "# print(len(pmgus_two_df))\n",
    "# print(len(pmgus_two_df.columns))\n",
    "# print(pmgus_two_df.columns)"
   ]
  },
  {
   "cell_type": "markdown",
   "metadata": {},
   "source": [
    "# final L1 FILTERS"
   ]
  },
  {
   "cell_type": "code",
   "execution_count": 547,
   "metadata": {},
   "outputs": [],
   "source": [
    "# print(len(pmgus_two_df))"
   ]
  },
  {
   "cell_type": "code",
   "execution_count": 548,
   "metadata": {},
   "outputs": [],
   "source": [
    "# # define no negatives\n",
    "# def no_negatives(df):\n",
    "#     \"\"\"Remove negative values in the data frame.\"\"\"\n",
    "#     return df[(df['Pre-market Change %'] >= 0) & (df['Pre-market Gap %'] >= 0)]\n",
    "\n",
    "# # apply no negatives\n",
    "# pmgus_two_df = no_negatives(pmgus_two_df)\n",
    "# print(len(pmgus_two_df))"
   ]
  },
  {
   "cell_type": "code",
   "execution_count": 549,
   "metadata": {},
   "outputs": [],
   "source": [
    "# def technical_price_filter(df):\n",
    "#     \"\"\"\n",
    "#     Filter stocks based on their position relative to key technical levels\n",
    "#     \"\"\"\n",
    "#     conditions = (\n",
    "#         # Price near recent highs suggesting momentum\n",
    "#         (df['Price'] >= df['High 1 month'] * 0.85) |  \n",
    "        \n",
    "#         # Price above all major SMAs showing strength\n",
    "#         (df['Price'] > df['Simple Moving Average (5) 1 minute']) &\n",
    "#         (df['Price'] > df['Simple Moving Average (13) 5 minutes']) &\n",
    "        \n",
    "#         # Price near upper Bollinger Band suggesting strength\n",
    "#         (df['Price'] >= df['Bollinger Bands (20) 5 minutes, Basis'])\n",
    "#     )\n",
    "#     return df[conditions]\n",
    "\n",
    "# # apply technical price filter\n",
    "# pmgus_two_df = technical_price_filter(pmgus_two_df)\n",
    "# print(len(pmgus_two_df))"
   ]
  },
  {
   "cell_type": "markdown",
   "metadata": {},
   "source": [
    "might need to back off a little on the volatility filter?"
   ]
  },
  {
   "cell_type": "code",
   "execution_count": 550,
   "metadata": {},
   "outputs": [],
   "source": [
    "# def fundamental_filter(df):\n",
    "#     \"\"\"\n",
    "#     Filter using analyst ratings and price targets\n",
    "#     \"\"\"\n",
    "#     conditions = (\n",
    "#         # Price well below analyst targets suggesting upside\n",
    "#         (df['Target price 1 year'] > df['Price'] * 1.2) &\n",
    "        \n",
    "#         # Strong analyst ratings\n",
    "#         (df['Analyst Rating'].isin(['Strong buy', 'Buy']))\n",
    "#     )\n",
    "#     return df[conditions]\n",
    "\n",
    "# # apply fundamental filter\n",
    "# pmgus_two_df = fundamental_filter(pmgus_two_df)\n",
    "\n",
    "# # sort by change percentage descending\n",
    "# pmgus_two_df.sort_values('Pre-market Change %', ascending=False, inplace=True)\n",
    "\n",
    "\n",
    "# print(len(pmgus_two_df))"
   ]
  },
  {
   "cell_type": "code",
   "execution_count": 551,
   "metadata": {},
   "outputs": [],
   "source": [
    "# def volatility_filter(df):\n",
    "#     \"\"\"\n",
    "#     Filter for stocks showing increasing volatility\n",
    "#     \"\"\"\n",
    "#     conditions = (\n",
    "#         # Increasing volatility pattern\n",
    "#         (df['Volatility 1 day'] > df['Volatility 1 week']) &\n",
    "#         (df['Volatility 1 week'] > df['Volatility 1 month']) &\n",
    "        \n",
    "#         # Beta filter for more responsive stocks\n",
    "#         (df['Beta 1 year'] > 1.0)\n",
    "#     )\n",
    "#     return df[conditions]\n",
    "\n",
    "# # apply volatility filter\n",
    "# pmgus_two_df = volatility_filter(pmgus_two_df)\n",
    "# print(len(pmgus_two_df))"
   ]
  },
  {
   "cell_type": "code",
   "execution_count": 552,
   "metadata": {},
   "outputs": [],
   "source": [
    "# # sort by largest change percentage\n",
    "# pmgus_two_df.sort_values('Pre-market Change %', ascending=False, inplace=True)\n",
    "\n",
    "# # look at data after initial filters\n",
    "# print(len(pmgus_two_df))\n",
    "# # display(pmgus_two_df)"
   ]
  },
  {
   "cell_type": "code",
   "execution_count": 553,
   "metadata": {},
   "outputs": [],
   "source": [
    "# # return symbol and price and analyst rating\n",
    "# pmgus_two_df[['Symbol', 'Price', 'Analyst Rating', 'marketCapType']]"
   ]
  },
  {
   "cell_type": "markdown",
   "metadata": {},
   "source": [
    "# ADDITIONAL GRANULAR FILTERS (when needed?)"
   ]
  },
  {
   "cell_type": "code",
   "execution_count": 554,
   "metadata": {},
   "outputs": [],
   "source": [
    "# if you want another volume one slightly more granular"
   ]
  },
  {
   "cell_type": "code",
   "execution_count": 555,
   "metadata": {},
   "outputs": [],
   "source": [
    "# # Price above short-term moving averages indicating immediate strength\n",
    "# price_conditions = (\n",
    "#     (pmgus_two_df['Price'] > pmgus_two_df['Simple Moving Average (5) 1 minute']) &\n",
    "#     (pmgus_two_df['Price'] > pmgus_two_df['Simple Moving Average (8) 1 minute'])\n",
    "# )\n",
    "\n",
    "# # Apply the conditions to filter the dataframe\n",
    "# pmgus_three_df = pmgus_two_df[price_conditions]\n",
    "\n",
    "# #3\n",
    "# print(len(pmgus_three_df))"
   ]
  },
  {
   "cell_type": "code",
   "execution_count": 556,
   "metadata": {},
   "outputs": [],
   "source": [
    "# # Volume additioal acceleration\n",
    "# vol_addtl_accel_conditions = (\n",
    "#     (pmgus_two_df['Relative Volume 1 minute'] > pmgus_two_df['Relative Volume 5 minutes']) &\n",
    "#     (pmgus_two_df['Relative Volume 5 minutes'] > 1.5)  &  # Strong recent volume\n",
    "#     (pmgus_two_df['Relative Volume 5 minutes'] > pmgus_two_df['Relative Volume 15 minutes']) &  # Accelerating volume\n",
    "#     (pmgus_two_df['Relative Volume 15 minutes'] > pmgus_two_df['Relative Volume 30 minutes'])) # building momentum \n",
    "\n",
    "# # Apply the conditions to filter the dataframe\n",
    "# pmgus_three_df = pmgus_two_df[vol_addtl_accel_conditions]\n",
    "\n",
    "# #3\n",
    "# print(len(pmgus_three_df))"
   ]
  },
  {
   "cell_type": "markdown",
   "metadata": {},
   "source": [
    "# End of additional filters when needed"
   ]
  },
  {
   "cell_type": "code",
   "execution_count": 557,
   "metadata": {},
   "outputs": [],
   "source": [
    "# open source tradingview type chart view. \n",
    "# then use historical data and plat the daily for the Symbols in the final_pmgus_df"
   ]
  }
 ],
 "metadata": {
  "kernelspec": {
   "display_name": "sps_venv",
   "language": "python",
   "name": "python3"
  },
  "language_info": {
   "codemirror_mode": {
    "name": "ipython",
    "version": 3
   },
   "file_extension": ".py",
   "mimetype": "text/x-python",
   "name": "python",
   "nbconvert_exporter": "python",
   "pygments_lexer": "ipython3",
   "version": "3.11.1"
  }
 },
 "nbformat": 4,
 "nbformat_minor": 2
}
