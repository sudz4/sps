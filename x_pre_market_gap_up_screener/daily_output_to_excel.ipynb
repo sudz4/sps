{
 "cells": [
  {
   "cell_type": "markdown",
   "metadata": {},
   "source": [
    "daily_output_to_excel.ipynb\n",
    "\n",
    "# 2DO\n",
    "take csv files, create their own sheet in excel, auto-spacing, uniform format, save to project folder"
   ]
  },
  {
   "cell_type": "code",
   "execution_count": null,
   "metadata": {},
   "outputs": [],
   "source": []
  }
 ],
 "metadata": {
  "kernelspec": {
   "display_name": "sps_venv",
   "language": "python",
   "name": "python3"
  },
  "language_info": {
   "name": "python",
   "version": "3.11.1"
  }
 },
 "nbformat": 4,
 "nbformat_minor": 2
}
