{
 "cells": [
  {
   "cell_type": "markdown",
   "metadata": {},
   "source": [
    "op_2024_11_25-27"
   ]
  },
  {
   "cell_type": "code",
   "execution_count": 14,
   "metadata": {},
   "outputs": [],
   "source": [
    "import pandas as pd\n",
    "import numpy as np\n",
    "import yfinance as yf"
   ]
  },
  {
   "cell_type": "code",
   "execution_count": 15,
   "metadata": {},
   "outputs": [],
   "source": [
    "ops_ticker_list = ['ESTC', 'SOFI', 'PLTR'] \n",
    "# just_take_gains_list = ['TEVA']\n",
    "# take_gains_specific_shared_list = ['INTC']"
   ]
  },
  {
   "cell_type": "markdown",
   "metadata": {},
   "source": [
    "Stock Operations: Monday 11/25 -> Wednesday 11/27 (Week of U.S. Holiday Thanksgiving)\n",
    "$SOFI, buy_price={$7.50} -SELL 2500sh of 7500sh  @ Key SELL levels between Monday OPEN and Wednesday CLOSE, TP=~ $14.00sh, TR>= $15,000  \n",
    "->SELL blocks=250sh\n",
    "$PLTR, buy_price={$7.24} -SELL 500sh of 3000sh @ Key SELL levels between Monday OPEN and Wednesday CLOSE; TP=~ $60.00sh, TR>= $30,000\n",
    "->SELL block\n",
    "$ESTC, buy_price={$113.50} -SELL (ALL) 3000sh @ Key SELL levels between Monday OPEN and Wednesday CLOSE; TP=~ $118.18-$120.00sh, TR>= $45,000\n",
    "->SELL blocks=250sh"
   ]
  },
  {
   "cell_type": "markdown",
   "metadata": {},
   "source": [
    "MAs (what time peri)\n",
    "VWAP\n"
   ]
  },
  {
   "cell_type": "markdown",
   "metadata": {},
   "source": [
    "Act"
   ]
  },
  {
   "cell_type": "code",
   "execution_count": null,
   "metadata": {},
   "outputs": [
    {
     "name": "stderr",
     "output_type": "stream",
     "text": [
      "[*********************100%***********************]  3 of 3 completed\n"
     ]
    },
    {
     "data": {
      "text/html": [
       "<div>\n",
       "<style scoped>\n",
       "    .dataframe tbody tr th:only-of-type {\n",
       "        vertical-align: middle;\n",
       "    }\n",
       "\n",
       "    .dataframe tbody tr th {\n",
       "        vertical-align: top;\n",
       "    }\n",
       "\n",
       "    .dataframe thead tr th {\n",
       "        text-align: left;\n",
       "    }\n",
       "\n",
       "    .dataframe thead tr:last-of-type th {\n",
       "        text-align: right;\n",
       "    }\n",
       "</style>\n",
       "<table border=\"1\" class=\"dataframe\">\n",
       "  <thead>\n",
       "    <tr>\n",
       "      <th>Price</th>\n",
       "      <th colspan=\"3\" halign=\"left\">Close</th>\n",
       "      <th colspan=\"3\" halign=\"left\">High</th>\n",
       "      <th colspan=\"3\" halign=\"left\">Low</th>\n",
       "      <th colspan=\"3\" halign=\"left\">Open</th>\n",
       "      <th colspan=\"3\" halign=\"left\">Volume</th>\n",
       "    </tr>\n",
       "    <tr>\n",
       "      <th>Ticker</th>\n",
       "      <th>ESTC</th>\n",
       "      <th>PLTR</th>\n",
       "      <th>SOFI</th>\n",
       "      <th>ESTC</th>\n",
       "      <th>PLTR</th>\n",
       "      <th>SOFI</th>\n",
       "      <th>ESTC</th>\n",
       "      <th>PLTR</th>\n",
       "      <th>SOFI</th>\n",
       "      <th>ESTC</th>\n",
       "      <th>PLTR</th>\n",
       "      <th>SOFI</th>\n",
       "      <th>ESTC</th>\n",
       "      <th>PLTR</th>\n",
       "      <th>SOFI</th>\n",
       "    </tr>\n",
       "    <tr>\n",
       "      <th>Date</th>\n",
       "      <th></th>\n",
       "      <th></th>\n",
       "      <th></th>\n",
       "      <th></th>\n",
       "      <th></th>\n",
       "      <th></th>\n",
       "      <th></th>\n",
       "      <th></th>\n",
       "      <th></th>\n",
       "      <th></th>\n",
       "      <th></th>\n",
       "      <th></th>\n",
       "      <th></th>\n",
       "      <th></th>\n",
       "      <th></th>\n",
       "    </tr>\n",
       "  </thead>\n",
       "  <tbody>\n",
       "    <tr>\n",
       "      <th>2019-11-25</th>\n",
       "      <td>79.220001</td>\n",
       "      <td>NaN</td>\n",
       "      <td>NaN</td>\n",
       "      <td>80.389999</td>\n",
       "      <td>NaN</td>\n",
       "      <td>NaN</td>\n",
       "      <td>78.940002</td>\n",
       "      <td>NaN</td>\n",
       "      <td>NaN</td>\n",
       "      <td>79.279999</td>\n",
       "      <td>NaN</td>\n",
       "      <td>NaN</td>\n",
       "      <td>859700</td>\n",
       "      <td>NaN</td>\n",
       "      <td>NaN</td>\n",
       "    </tr>\n",
       "    <tr>\n",
       "      <th>2019-11-26</th>\n",
       "      <td>79.470001</td>\n",
       "      <td>NaN</td>\n",
       "      <td>NaN</td>\n",
       "      <td>80.220001</td>\n",
       "      <td>NaN</td>\n",
       "      <td>NaN</td>\n",
       "      <td>79.010002</td>\n",
       "      <td>NaN</td>\n",
       "      <td>NaN</td>\n",
       "      <td>79.250000</td>\n",
       "      <td>NaN</td>\n",
       "      <td>NaN</td>\n",
       "      <td>774700</td>\n",
       "      <td>NaN</td>\n",
       "      <td>NaN</td>\n",
       "    </tr>\n",
       "    <tr>\n",
       "      <th>2019-11-27</th>\n",
       "      <td>79.980003</td>\n",
       "      <td>NaN</td>\n",
       "      <td>NaN</td>\n",
       "      <td>80.000000</td>\n",
       "      <td>NaN</td>\n",
       "      <td>NaN</td>\n",
       "      <td>78.410004</td>\n",
       "      <td>NaN</td>\n",
       "      <td>NaN</td>\n",
       "      <td>79.330002</td>\n",
       "      <td>NaN</td>\n",
       "      <td>NaN</td>\n",
       "      <td>530900</td>\n",
       "      <td>NaN</td>\n",
       "      <td>NaN</td>\n",
       "    </tr>\n",
       "    <tr>\n",
       "      <th>2019-11-29</th>\n",
       "      <td>79.410004</td>\n",
       "      <td>NaN</td>\n",
       "      <td>NaN</td>\n",
       "      <td>80.019997</td>\n",
       "      <td>NaN</td>\n",
       "      <td>NaN</td>\n",
       "      <td>79.019997</td>\n",
       "      <td>NaN</td>\n",
       "      <td>NaN</td>\n",
       "      <td>79.650002</td>\n",
       "      <td>NaN</td>\n",
       "      <td>NaN</td>\n",
       "      <td>238100</td>\n",
       "      <td>NaN</td>\n",
       "      <td>NaN</td>\n",
       "    </tr>\n",
       "    <tr>\n",
       "      <th>2019-12-02</th>\n",
       "      <td>76.410004</td>\n",
       "      <td>NaN</td>\n",
       "      <td>NaN</td>\n",
       "      <td>79.699997</td>\n",
       "      <td>NaN</td>\n",
       "      <td>NaN</td>\n",
       "      <td>74.800003</td>\n",
       "      <td>NaN</td>\n",
       "      <td>NaN</td>\n",
       "      <td>79.320000</td>\n",
       "      <td>NaN</td>\n",
       "      <td>NaN</td>\n",
       "      <td>1600200</td>\n",
       "      <td>NaN</td>\n",
       "      <td>NaN</td>\n",
       "    </tr>\n",
       "  </tbody>\n",
       "</table>\n",
       "</div>"
      ],
      "text/plain": [
       "Price           Close                 High                  Low            \\\n",
       "Ticker           ESTC PLTR SOFI       ESTC PLTR SOFI       ESTC PLTR SOFI   \n",
       "Date                                                                        \n",
       "2019-11-25  79.220001  NaN  NaN  80.389999  NaN  NaN  78.940002  NaN  NaN   \n",
       "2019-11-26  79.470001  NaN  NaN  80.220001  NaN  NaN  79.010002  NaN  NaN   \n",
       "2019-11-27  79.980003  NaN  NaN  80.000000  NaN  NaN  78.410004  NaN  NaN   \n",
       "2019-11-29  79.410004  NaN  NaN  80.019997  NaN  NaN  79.019997  NaN  NaN   \n",
       "2019-12-02  76.410004  NaN  NaN  79.699997  NaN  NaN  74.800003  NaN  NaN   \n",
       "\n",
       "Price            Open             Volume            \n",
       "Ticker           ESTC PLTR SOFI     ESTC PLTR SOFI  \n",
       "Date                                                \n",
       "2019-11-25  79.279999  NaN  NaN   859700  NaN  NaN  \n",
       "2019-11-26  79.250000  NaN  NaN   774700  NaN  NaN  \n",
       "2019-11-27  79.330002  NaN  NaN   530900  NaN  NaN  \n",
       "2019-11-29  79.650002  NaN  NaN   238100  NaN  NaN  \n",
       "2019-12-02  79.320000  NaN  NaN  1600200  NaN  NaN  "
      ]
     },
     "execution_count": 19,
     "metadata": {},
     "output_type": "execute_result"
    }
   ],
   "source": [
    "# Define the time period\n",
    "period = '5y'\n",
    "\n",
    "# Fetch historical price data\n",
    "hp_data = yf.download(ops_ticker_list, period=period, auto_adjust=True)\n",
    "# save to pandas df\n",
    "hp_df = pd.DataFrame(hp_data)\n",
    "\n",
    "hp_df.tail(5)"
   ]
  },
  {
   "cell_type": "code",
   "execution_count": null,
   "metadata": {},
   "outputs": [],
   "source": [
    "hp_df.tail(5)"
   ]
  },
  {
   "cell_type": "code",
   "execution_count": 18,
   "metadata": {},
   "outputs": [
    {
     "name": "stdout",
     "output_type": "stream",
     "text": [
      "2024-11-24\n"
     ]
    }
   ],
   "source": [
    "# get datetime today\n",
    "todays_date = pd.to_datetime('today').normalize()\n",
    "# strip time from datetime\n",
    "todays_date = todays_date.strftime('%Y-%m-%d')\n",
    "# print date\n",
    "print(todays_date)"
   ]
  },
  {
   "cell_type": "code",
   "execution_count": null,
   "metadata": {},
   "outputs": [],
   "source": []
  }
 ],
 "metadata": {
  "kernelspec": {
   "display_name": "sps_venv",
   "language": "python",
   "name": "python3"
  },
  "language_info": {
   "codemirror_mode": {
    "name": "ipython",
    "version": 3
   },
   "file_extension": ".py",
   "mimetype": "text/x-python",
   "name": "python",
   "nbconvert_exporter": "python",
   "pygments_lexer": "ipython3",
   "version": "3.11.1"
  }
 },
 "nbformat": 4,
 "nbformat_minor": 2
}
